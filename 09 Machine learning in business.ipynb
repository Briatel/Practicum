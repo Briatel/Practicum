{
 "cells": [
  {
   "cell_type": "markdown",
   "metadata": {},
   "source": [
    "# Выбор локации для скважины"
   ]
  },
  {
   "cell_type": "markdown",
   "metadata": {},
   "source": [
    "Допустим, вы работаете в добывающей компании «ГлавРосГосНефть». Нужно решить, где бурить новую скважину.\n",
    "\n",
    "Вам предоставлены пробы нефти в трёх регионах: в каждом 100 000 месторождений, где измерили качество нефти и объём её запасов. Постройте модель машинного обучения, которая поможет определить регион, где добыча принесёт наибольшую прибыль. Проанализируйте возможную прибыль и риски техникой *Bootstrap.*\n",
    "\n",
    "Шаги для выбора локации:\n",
    "\n",
    "- В избранном регионе ищут месторождения, для каждого определяют значения признаков;\n",
    "- Строят модель и оценивают объём запасов;\n",
    "- Выбирают месторождения с самым высокими оценками значений. Количество месторождений зависит от бюджета компании и стоимости разработки одной скважины;\n",
    "- Прибыль равна суммарной прибыли отобранных месторождений."
   ]
  },
  {
   "cell_type": "code",
   "execution_count": 1,
   "metadata": {},
   "outputs": [],
   "source": [
    "# Импорт\n",
    "import pandas as pd\n",
    "import numpy as np\n",
    "from IPython.display import display, Markdown\n",
    "from sklearn.model_selection import train_test_split\n",
    "from sklearn.linear_model import LinearRegression\n",
    "from sklearn.metrics import mean_squared_error\n",
    "import matplotlib.pyplot as plt\n",
    "import seaborn as sns"
   ]
  },
  {
   "cell_type": "markdown",
   "metadata": {},
   "source": [
    "## Загрузка и подготовка данных"
   ]
  },
  {
   "cell_type": "markdown",
   "metadata": {},
   "source": [
    "### Первый регион "
   ]
  },
  {
   "cell_type": "code",
   "execution_count": 2,
   "metadata": {},
   "outputs": [
    {
     "data": {
      "text/html": [
       "<div>\n",
       "<style scoped>\n",
       "    .dataframe tbody tr th:only-of-type {\n",
       "        vertical-align: middle;\n",
       "    }\n",
       "\n",
       "    .dataframe tbody tr th {\n",
       "        vertical-align: top;\n",
       "    }\n",
       "\n",
       "    .dataframe thead th {\n",
       "        text-align: right;\n",
       "    }\n",
       "</style>\n",
       "<table border=\"1\" class=\"dataframe\">\n",
       "  <thead>\n",
       "    <tr style=\"text-align: right;\">\n",
       "      <th></th>\n",
       "      <th>id</th>\n",
       "      <th>f0</th>\n",
       "      <th>f1</th>\n",
       "      <th>f2</th>\n",
       "      <th>product</th>\n",
       "    </tr>\n",
       "  </thead>\n",
       "  <tbody>\n",
       "    <tr>\n",
       "      <th>0</th>\n",
       "      <td>txEyH</td>\n",
       "      <td>0.705745</td>\n",
       "      <td>-0.497823</td>\n",
       "      <td>1.221170</td>\n",
       "      <td>105.280062</td>\n",
       "    </tr>\n",
       "    <tr>\n",
       "      <th>1</th>\n",
       "      <td>2acmU</td>\n",
       "      <td>1.334711</td>\n",
       "      <td>-0.340164</td>\n",
       "      <td>4.365080</td>\n",
       "      <td>73.037750</td>\n",
       "    </tr>\n",
       "    <tr>\n",
       "      <th>2</th>\n",
       "      <td>409Wp</td>\n",
       "      <td>1.022732</td>\n",
       "      <td>0.151990</td>\n",
       "      <td>1.419926</td>\n",
       "      <td>85.265647</td>\n",
       "    </tr>\n",
       "    <tr>\n",
       "      <th>3</th>\n",
       "      <td>iJLyR</td>\n",
       "      <td>-0.032172</td>\n",
       "      <td>0.139033</td>\n",
       "      <td>2.978566</td>\n",
       "      <td>168.620776</td>\n",
       "    </tr>\n",
       "    <tr>\n",
       "      <th>4</th>\n",
       "      <td>Xdl7t</td>\n",
       "      <td>1.988431</td>\n",
       "      <td>0.155413</td>\n",
       "      <td>4.751769</td>\n",
       "      <td>154.036647</td>\n",
       "    </tr>\n",
       "    <tr>\n",
       "      <th>5</th>\n",
       "      <td>wX4Hy</td>\n",
       "      <td>0.969570</td>\n",
       "      <td>0.489775</td>\n",
       "      <td>-0.735383</td>\n",
       "      <td>64.741541</td>\n",
       "    </tr>\n",
       "    <tr>\n",
       "      <th>6</th>\n",
       "      <td>tL6pL</td>\n",
       "      <td>0.645075</td>\n",
       "      <td>0.530656</td>\n",
       "      <td>1.780266</td>\n",
       "      <td>49.055285</td>\n",
       "    </tr>\n",
       "    <tr>\n",
       "      <th>7</th>\n",
       "      <td>BYPU6</td>\n",
       "      <td>-0.400648</td>\n",
       "      <td>0.808337</td>\n",
       "      <td>-5.624670</td>\n",
       "      <td>72.943292</td>\n",
       "    </tr>\n",
       "    <tr>\n",
       "      <th>8</th>\n",
       "      <td>j9Oui</td>\n",
       "      <td>0.643105</td>\n",
       "      <td>-0.551583</td>\n",
       "      <td>2.372141</td>\n",
       "      <td>113.356160</td>\n",
       "    </tr>\n",
       "    <tr>\n",
       "      <th>9</th>\n",
       "      <td>OLuZU</td>\n",
       "      <td>2.173381</td>\n",
       "      <td>0.563698</td>\n",
       "      <td>9.441852</td>\n",
       "      <td>127.910945</td>\n",
       "    </tr>\n",
       "  </tbody>\n",
       "</table>\n",
       "</div>"
      ],
      "text/plain": [
       "      id        f0        f1        f2     product\n",
       "0  txEyH  0.705745 -0.497823  1.221170  105.280062\n",
       "1  2acmU  1.334711 -0.340164  4.365080   73.037750\n",
       "2  409Wp  1.022732  0.151990  1.419926   85.265647\n",
       "3  iJLyR -0.032172  0.139033  2.978566  168.620776\n",
       "4  Xdl7t  1.988431  0.155413  4.751769  154.036647\n",
       "5  wX4Hy  0.969570  0.489775 -0.735383   64.741541\n",
       "6  tL6pL  0.645075  0.530656  1.780266   49.055285\n",
       "7  BYPU6 -0.400648  0.808337 -5.624670   72.943292\n",
       "8  j9Oui  0.643105 -0.551583  2.372141  113.356160\n",
       "9  OLuZU  2.173381  0.563698  9.441852  127.910945"
      ]
     },
     "execution_count": 2,
     "metadata": {},
     "output_type": "execute_result"
    }
   ],
   "source": [
    "data_0 = pd.read_csv('/datasets/geo_data_0.csv')\n",
    "data_0.head(10)"
   ]
  },
  {
   "cell_type": "code",
   "execution_count": 3,
   "metadata": {},
   "outputs": [
    {
     "name": "stdout",
     "output_type": "stream",
     "text": [
      "<class 'pandas.core.frame.DataFrame'>\n",
      "RangeIndex: 100000 entries, 0 to 99999\n",
      "Data columns (total 5 columns):\n",
      " #   Column   Non-Null Count   Dtype  \n",
      "---  ------   --------------   -----  \n",
      " 0   id       100000 non-null  object \n",
      " 1   f0       100000 non-null  float64\n",
      " 2   f1       100000 non-null  float64\n",
      " 3   f2       100000 non-null  float64\n",
      " 4   product  100000 non-null  float64\n",
      "dtypes: float64(4), object(1)\n",
      "memory usage: 3.8+ MB\n"
     ]
    }
   ],
   "source": [
    "data_0.info()"
   ]
  },
  {
   "cell_type": "code",
   "execution_count": 4,
   "metadata": {},
   "outputs": [
    {
     "data": {
      "text/plain": [
       "0"
      ]
     },
     "execution_count": 4,
     "metadata": {},
     "output_type": "execute_result"
    }
   ],
   "source": [
    "data_0.duplicated().sum()"
   ]
  },
  {
   "cell_type": "markdown",
   "metadata": {},
   "source": [
    "### Второй регион"
   ]
  },
  {
   "cell_type": "code",
   "execution_count": 5,
   "metadata": {},
   "outputs": [
    {
     "data": {
      "text/html": [
       "<div>\n",
       "<style scoped>\n",
       "    .dataframe tbody tr th:only-of-type {\n",
       "        vertical-align: middle;\n",
       "    }\n",
       "\n",
       "    .dataframe tbody tr th {\n",
       "        vertical-align: top;\n",
       "    }\n",
       "\n",
       "    .dataframe thead th {\n",
       "        text-align: right;\n",
       "    }\n",
       "</style>\n",
       "<table border=\"1\" class=\"dataframe\">\n",
       "  <thead>\n",
       "    <tr style=\"text-align: right;\">\n",
       "      <th></th>\n",
       "      <th>id</th>\n",
       "      <th>f0</th>\n",
       "      <th>f1</th>\n",
       "      <th>f2</th>\n",
       "      <th>product</th>\n",
       "    </tr>\n",
       "  </thead>\n",
       "  <tbody>\n",
       "    <tr>\n",
       "      <th>0</th>\n",
       "      <td>kBEdx</td>\n",
       "      <td>-15.001348</td>\n",
       "      <td>-8.276000</td>\n",
       "      <td>-0.005876</td>\n",
       "      <td>3.179103</td>\n",
       "    </tr>\n",
       "    <tr>\n",
       "      <th>1</th>\n",
       "      <td>62mP7</td>\n",
       "      <td>14.272088</td>\n",
       "      <td>-3.475083</td>\n",
       "      <td>0.999183</td>\n",
       "      <td>26.953261</td>\n",
       "    </tr>\n",
       "    <tr>\n",
       "      <th>2</th>\n",
       "      <td>vyE1P</td>\n",
       "      <td>6.263187</td>\n",
       "      <td>-5.948386</td>\n",
       "      <td>5.001160</td>\n",
       "      <td>134.766305</td>\n",
       "    </tr>\n",
       "    <tr>\n",
       "      <th>3</th>\n",
       "      <td>KcrkZ</td>\n",
       "      <td>-13.081196</td>\n",
       "      <td>-11.506057</td>\n",
       "      <td>4.999415</td>\n",
       "      <td>137.945408</td>\n",
       "    </tr>\n",
       "    <tr>\n",
       "      <th>4</th>\n",
       "      <td>AHL4O</td>\n",
       "      <td>12.702195</td>\n",
       "      <td>-8.147433</td>\n",
       "      <td>5.004363</td>\n",
       "      <td>134.766305</td>\n",
       "    </tr>\n",
       "    <tr>\n",
       "      <th>5</th>\n",
       "      <td>HHckp</td>\n",
       "      <td>-3.327590</td>\n",
       "      <td>-2.205276</td>\n",
       "      <td>3.003647</td>\n",
       "      <td>84.038886</td>\n",
       "    </tr>\n",
       "    <tr>\n",
       "      <th>6</th>\n",
       "      <td>h5Ujo</td>\n",
       "      <td>-11.142655</td>\n",
       "      <td>-10.133399</td>\n",
       "      <td>4.002382</td>\n",
       "      <td>110.992147</td>\n",
       "    </tr>\n",
       "    <tr>\n",
       "      <th>7</th>\n",
       "      <td>muH9x</td>\n",
       "      <td>4.234715</td>\n",
       "      <td>-0.001354</td>\n",
       "      <td>2.004588</td>\n",
       "      <td>53.906522</td>\n",
       "    </tr>\n",
       "    <tr>\n",
       "      <th>8</th>\n",
       "      <td>YiRkx</td>\n",
       "      <td>13.355129</td>\n",
       "      <td>-0.332068</td>\n",
       "      <td>4.998647</td>\n",
       "      <td>134.766305</td>\n",
       "    </tr>\n",
       "    <tr>\n",
       "      <th>9</th>\n",
       "      <td>jG6Gi</td>\n",
       "      <td>1.069227</td>\n",
       "      <td>-11.025667</td>\n",
       "      <td>4.997844</td>\n",
       "      <td>137.945408</td>\n",
       "    </tr>\n",
       "  </tbody>\n",
       "</table>\n",
       "</div>"
      ],
      "text/plain": [
       "      id         f0         f1        f2     product\n",
       "0  kBEdx -15.001348  -8.276000 -0.005876    3.179103\n",
       "1  62mP7  14.272088  -3.475083  0.999183   26.953261\n",
       "2  vyE1P   6.263187  -5.948386  5.001160  134.766305\n",
       "3  KcrkZ -13.081196 -11.506057  4.999415  137.945408\n",
       "4  AHL4O  12.702195  -8.147433  5.004363  134.766305\n",
       "5  HHckp  -3.327590  -2.205276  3.003647   84.038886\n",
       "6  h5Ujo -11.142655 -10.133399  4.002382  110.992147\n",
       "7  muH9x   4.234715  -0.001354  2.004588   53.906522\n",
       "8  YiRkx  13.355129  -0.332068  4.998647  134.766305\n",
       "9  jG6Gi   1.069227 -11.025667  4.997844  137.945408"
      ]
     },
     "execution_count": 5,
     "metadata": {},
     "output_type": "execute_result"
    }
   ],
   "source": [
    "data_1 = pd.read_csv('/datasets/geo_data_1.csv')\n",
    "data_1.head(10)"
   ]
  },
  {
   "cell_type": "code",
   "execution_count": 6,
   "metadata": {},
   "outputs": [
    {
     "name": "stdout",
     "output_type": "stream",
     "text": [
      "<class 'pandas.core.frame.DataFrame'>\n",
      "RangeIndex: 100000 entries, 0 to 99999\n",
      "Data columns (total 5 columns):\n",
      " #   Column   Non-Null Count   Dtype  \n",
      "---  ------   --------------   -----  \n",
      " 0   id       100000 non-null  object \n",
      " 1   f0       100000 non-null  float64\n",
      " 2   f1       100000 non-null  float64\n",
      " 3   f2       100000 non-null  float64\n",
      " 4   product  100000 non-null  float64\n",
      "dtypes: float64(4), object(1)\n",
      "memory usage: 3.8+ MB\n"
     ]
    }
   ],
   "source": [
    "data_1.info()"
   ]
  },
  {
   "cell_type": "code",
   "execution_count": 7,
   "metadata": {},
   "outputs": [
    {
     "data": {
      "text/plain": [
       "0"
      ]
     },
     "execution_count": 7,
     "metadata": {},
     "output_type": "execute_result"
    }
   ],
   "source": [
    "data_1.duplicated().sum()"
   ]
  },
  {
   "cell_type": "markdown",
   "metadata": {},
   "source": [
    "### Третий регион"
   ]
  },
  {
   "cell_type": "code",
   "execution_count": 8,
   "metadata": {},
   "outputs": [
    {
     "data": {
      "text/html": [
       "<div>\n",
       "<style scoped>\n",
       "    .dataframe tbody tr th:only-of-type {\n",
       "        vertical-align: middle;\n",
       "    }\n",
       "\n",
       "    .dataframe tbody tr th {\n",
       "        vertical-align: top;\n",
       "    }\n",
       "\n",
       "    .dataframe thead th {\n",
       "        text-align: right;\n",
       "    }\n",
       "</style>\n",
       "<table border=\"1\" class=\"dataframe\">\n",
       "  <thead>\n",
       "    <tr style=\"text-align: right;\">\n",
       "      <th></th>\n",
       "      <th>id</th>\n",
       "      <th>f0</th>\n",
       "      <th>f1</th>\n",
       "      <th>f2</th>\n",
       "      <th>product</th>\n",
       "    </tr>\n",
       "  </thead>\n",
       "  <tbody>\n",
       "    <tr>\n",
       "      <th>0</th>\n",
       "      <td>fwXo0</td>\n",
       "      <td>-1.146987</td>\n",
       "      <td>0.963328</td>\n",
       "      <td>-0.828965</td>\n",
       "      <td>27.758673</td>\n",
       "    </tr>\n",
       "    <tr>\n",
       "      <th>1</th>\n",
       "      <td>WJtFt</td>\n",
       "      <td>0.262778</td>\n",
       "      <td>0.269839</td>\n",
       "      <td>-2.530187</td>\n",
       "      <td>56.069697</td>\n",
       "    </tr>\n",
       "    <tr>\n",
       "      <th>2</th>\n",
       "      <td>ovLUW</td>\n",
       "      <td>0.194587</td>\n",
       "      <td>0.289035</td>\n",
       "      <td>-5.586433</td>\n",
       "      <td>62.871910</td>\n",
       "    </tr>\n",
       "    <tr>\n",
       "      <th>3</th>\n",
       "      <td>q6cA6</td>\n",
       "      <td>2.236060</td>\n",
       "      <td>-0.553760</td>\n",
       "      <td>0.930038</td>\n",
       "      <td>114.572842</td>\n",
       "    </tr>\n",
       "    <tr>\n",
       "      <th>4</th>\n",
       "      <td>WPMUX</td>\n",
       "      <td>-0.515993</td>\n",
       "      <td>1.716266</td>\n",
       "      <td>5.899011</td>\n",
       "      <td>149.600746</td>\n",
       "    </tr>\n",
       "    <tr>\n",
       "      <th>5</th>\n",
       "      <td>LzZXx</td>\n",
       "      <td>-0.758092</td>\n",
       "      <td>0.710691</td>\n",
       "      <td>2.585887</td>\n",
       "      <td>90.222465</td>\n",
       "    </tr>\n",
       "    <tr>\n",
       "      <th>6</th>\n",
       "      <td>WBHRv</td>\n",
       "      <td>-0.574891</td>\n",
       "      <td>0.317727</td>\n",
       "      <td>1.773745</td>\n",
       "      <td>45.641478</td>\n",
       "    </tr>\n",
       "    <tr>\n",
       "      <th>7</th>\n",
       "      <td>XO8fn</td>\n",
       "      <td>-1.906649</td>\n",
       "      <td>-2.458350</td>\n",
       "      <td>-0.177097</td>\n",
       "      <td>72.480640</td>\n",
       "    </tr>\n",
       "    <tr>\n",
       "      <th>8</th>\n",
       "      <td>ybmQ5</td>\n",
       "      <td>1.776292</td>\n",
       "      <td>-0.279356</td>\n",
       "      <td>3.004156</td>\n",
       "      <td>106.616832</td>\n",
       "    </tr>\n",
       "    <tr>\n",
       "      <th>9</th>\n",
       "      <td>OilcN</td>\n",
       "      <td>-1.214452</td>\n",
       "      <td>-0.439314</td>\n",
       "      <td>5.922514</td>\n",
       "      <td>52.954532</td>\n",
       "    </tr>\n",
       "  </tbody>\n",
       "</table>\n",
       "</div>"
      ],
      "text/plain": [
       "      id        f0        f1        f2     product\n",
       "0  fwXo0 -1.146987  0.963328 -0.828965   27.758673\n",
       "1  WJtFt  0.262778  0.269839 -2.530187   56.069697\n",
       "2  ovLUW  0.194587  0.289035 -5.586433   62.871910\n",
       "3  q6cA6  2.236060 -0.553760  0.930038  114.572842\n",
       "4  WPMUX -0.515993  1.716266  5.899011  149.600746\n",
       "5  LzZXx -0.758092  0.710691  2.585887   90.222465\n",
       "6  WBHRv -0.574891  0.317727  1.773745   45.641478\n",
       "7  XO8fn -1.906649 -2.458350 -0.177097   72.480640\n",
       "8  ybmQ5  1.776292 -0.279356  3.004156  106.616832\n",
       "9  OilcN -1.214452 -0.439314  5.922514   52.954532"
      ]
     },
     "execution_count": 8,
     "metadata": {},
     "output_type": "execute_result"
    }
   ],
   "source": [
    "data_2 = pd.read_csv('/datasets/geo_data_2.csv')\n",
    "data_2.head(10)"
   ]
  },
  {
   "cell_type": "code",
   "execution_count": 9,
   "metadata": {},
   "outputs": [
    {
     "name": "stdout",
     "output_type": "stream",
     "text": [
      "<class 'pandas.core.frame.DataFrame'>\n",
      "RangeIndex: 100000 entries, 0 to 99999\n",
      "Data columns (total 5 columns):\n",
      " #   Column   Non-Null Count   Dtype  \n",
      "---  ------   --------------   -----  \n",
      " 0   id       100000 non-null  object \n",
      " 1   f0       100000 non-null  float64\n",
      " 2   f1       100000 non-null  float64\n",
      " 3   f2       100000 non-null  float64\n",
      " 4   product  100000 non-null  float64\n",
      "dtypes: float64(4), object(1)\n",
      "memory usage: 3.8+ MB\n"
     ]
    }
   ],
   "source": [
    "data_2.info()"
   ]
  },
  {
   "cell_type": "code",
   "execution_count": 10,
   "metadata": {},
   "outputs": [
    {
     "data": {
      "text/plain": [
       "0"
      ]
     },
     "execution_count": 10,
     "metadata": {},
     "output_type": "execute_result"
    }
   ],
   "source": [
    "data_2.duplicated().sum()"
   ]
  },
  {
   "cell_type": "markdown",
   "metadata": {},
   "source": [
    "### Вывод общий\n",
    "\n",
    "Данные загружены в переменный, пропусков или неподходящих типо нет. Дублей также не имеется, проверять дубли без уникального идентификатора нет смысла, т.к. месторождения могут быть с похожими показателями."
   ]
  },
  {
   "cell_type": "markdown",
   "metadata": {},
   "source": [
    "## Обучение и проверка модели"
   ]
  },
  {
   "cell_type": "markdown",
   "metadata": {},
   "source": [
    "Создадим функцию для обучения моделей всех 3х регионов."
   ]
  },
  {
   "cell_type": "code",
   "execution_count": 11,
   "metadata": {},
   "outputs": [],
   "source": [
    "def train_and_evaluate_model(data, region_name):\n",
    "    # Разделение признаков и целевой переменной\n",
    "    X = data.drop(['id', 'product'], axis=1)\n",
    "    y = data['product']\n",
    "    \n",
    "    # Разделение на обучающую и валидационную выборки (75:25)\n",
    "    X_train, X_valid, y_train, y_valid = train_test_split(\n",
    "        X, y,\n",
    "        test_size=0.25,\n",
    "        random_state=12345\n",
    "    )\n",
    "    \n",
    "    # Обучение модели линейной регрессии\n",
    "    model = LinearRegression()\n",
    "    model.fit(X_train, y_train)\n",
    "    \n",
    "    # Предсказания на валидационной выборке\n",
    "    predictions = model.predict(X_valid)\n",
    "    \n",
    "    # Расчет метрик\n",
    "    rmse = np.sqrt(mean_squared_error(y_valid, predictions))\n",
    "    mean_predicted = predictions.mean()\n",
    "    \n",
    "    # Сохранение результатов\n",
    "    results = {\n",
    "        'target_valid': y_valid,\n",
    "        'predictions': predictions,\n",
    "        'rmse': rmse,\n",
    "        'mean_predicted': mean_predicted,\n",
    "        'mean_actual': y_valid.mean()\n",
    "    }\n",
    "    \n",
    "    print(f\"Регион {region_name}:\")\n",
    "    print(f\"    Средний запас предсказанного сырья: {mean_predicted:.2f} тыс. баррелей\")\n",
    "    print(f\"    Средний запас фактического сырья: {y_valid.mean():.2f} тыс. баррелей\")\n",
    "    print(f\"    RMSE модели: {rmse:.2f}\")\n",
    "    \n",
    "    return results"
   ]
  },
  {
   "cell_type": "code",
   "execution_count": 12,
   "metadata": {},
   "outputs": [
    {
     "name": "stdout",
     "output_type": "stream",
     "text": [
      "Регион Первый регион:\n",
      "    Средний запас предсказанного сырья: 92.59 тыс. баррелей\n",
      "    Средний запас фактического сырья: 92.08 тыс. баррелей\n",
      "    RMSE модели: 37.58\n",
      "Регион Второй регион:\n",
      "    Средний запас предсказанного сырья: 68.73 тыс. баррелей\n",
      "    Средний запас фактического сырья: 68.72 тыс. баррелей\n",
      "    RMSE модели: 0.89\n",
      "Регион Третий регион:\n",
      "    Средний запас предсказанного сырья: 94.97 тыс. баррелей\n",
      "    Средний запас фактического сырья: 94.88 тыс. баррелей\n",
      "    RMSE модели: 40.03\n"
     ]
    },
    {
     "data": {
      "text/plain": [
       "({'target_valid': 71751     10.038645\n",
       "  80493    114.551489\n",
       "  2655     132.603635\n",
       "  53233    169.072125\n",
       "  91141    122.325180\n",
       "              ...    \n",
       "  12581    170.116726\n",
       "  18456     93.632175\n",
       "  73035    127.352259\n",
       "  63834     99.782700\n",
       "  43558    177.821022\n",
       "  Name: product, Length: 25000, dtype: float64,\n",
       "  'predictions': array([ 95.89495185,  77.57258261,  77.89263965, ...,  61.50983303,\n",
       "         118.18039721, 118.16939229]),\n",
       "  'rmse': 37.5794217150813,\n",
       "  'mean_predicted': 92.59256778438035,\n",
       "  'mean_actual': 92.07859674082927},\n",
       " {'target_valid': 71751     80.859783\n",
       "  80493     53.906522\n",
       "  2655      30.132364\n",
       "  53233     53.906522\n",
       "  91141      0.000000\n",
       "              ...    \n",
       "  12581    137.945408\n",
       "  18456    110.992147\n",
       "  73035    137.945408\n",
       "  63834     84.038886\n",
       "  43558     53.906522\n",
       "  Name: product, Length: 25000, dtype: float64,\n",
       "  'predictions': array([ 82.66331365,  54.43178616,  29.74875995, ..., 137.87934053,\n",
       "          83.76196568,  53.95846638]),\n",
       "  'rmse': 0.893099286775617,\n",
       "  'mean_predicted': 68.728546895446,\n",
       "  'mean_actual': 68.72313602435997},\n",
       " {'target_valid': 71751     61.212375\n",
       "  80493     41.850118\n",
       "  2655      57.776581\n",
       "  53233    100.053761\n",
       "  91141    109.897122\n",
       "              ...    \n",
       "  12581     28.492402\n",
       "  18456     21.431303\n",
       "  73035    125.487229\n",
       "  63834     99.422903\n",
       "  43558    127.445075\n",
       "  Name: product, Length: 25000, dtype: float64,\n",
       "  'predictions': array([ 93.59963303,  75.10515854,  90.06680936, ...,  99.40728116,\n",
       "          77.77991248, 129.03241718]),\n",
       "  'rmse': 40.02970873393434,\n",
       "  'mean_predicted': 94.96504596800489,\n",
       "  'mean_actual': 94.88423280885438})"
      ]
     },
     "execution_count": 12,
     "metadata": {},
     "output_type": "execute_result"
    }
   ],
   "source": [
    "results_0 = train_and_evaluate_model(data_0, 'Первый регион')\n",
    "results_1 = train_and_evaluate_model(data_1, 'Второй регион')\n",
    "results_2 = train_and_evaluate_model(data_2, 'Третий регион')\n",
    "\n",
    "results_0, results_1, results_2"
   ]
  },
  {
   "cell_type": "markdown",
   "metadata": {},
   "source": [
    "### Выводы\n",
    "\n",
    "**Показатели**  \n",
    "Первый регион:  \n",
    "&nbsp;&nbsp;&nbsp;&nbsp;Средний запас предсказанного сырья: 92.59 тыс. баррелей  \n",
    "&nbsp;&nbsp;&nbsp;&nbsp;Средний запас фактического сырья: 92.08 тыс. баррелей  \n",
    "&nbsp;&nbsp;&nbsp;&nbsp;RMSE модели: 37.58\n",
    "\n",
    "Второй регион:  \n",
    "&nbsp;&nbsp;&nbsp;&nbsp;Средний запас предсказанного сырья: 68.73 тыс. баррелей  \n",
    "&nbsp;&nbsp;&nbsp;&nbsp;Средний запас фактического сырья: 68.72 тыс. баррелей  \n",
    "&nbsp;&nbsp;&nbsp;&nbsp;RMSE модели: 0.89\n",
    "\n",
    "Третий регион:  \n",
    "&nbsp;&nbsp;&nbsp;&nbsp;Средний запас предсказанного сырья: 94.97 тыс. баррелей  \n",
    "&nbsp;&nbsp;&nbsp;&nbsp;Средний запас фактического сырья: 94.88 тыс. баррелей  \n",
    "&nbsp;&nbsp;&nbsp;&nbsp;RMSE модели: 40.03\n",
    "\n",
    "**Анализ**  \n",
    "Во всех регионах среднее предсказанное значение близко к среднему фактическому:  \n",
    "1: 92,59 против 92,08.  \n",
    "2: 68,73 против 68,72.  \n",
    "3: 94,97 против 94,88.  \n",
    "Это указывает на отсутствие систематического смещения — модель не переоценивает и не недооценивает запасы в среднем. Это хороший знак, который говорит об объективности модели.\n",
    "\n",
    "Наибольшие средние запасы наблюдаются в третьем регионе — около 94,9 тыс. баррелей. Затем идёт первый регион — около 92,1 тыс. баррелей. Наименьшие средние запасы — во втором регионе, около 68,7 тыс. баррелей. На первый взгляд, регион 3 выглядит наиболее привлекательным по объёму запасов.  \n",
    "Однако в регионе 2 модель показывает исключительно высокую точность — RMSE составляет всего 0,89. Это означает, что модель почти идеально предсказывает объём нефти, а ошибка составляет менее 1000 баррелей, что является очень точным результатом.  \n",
    "В регионах 1 и 3 RMSE значительно выше — около 37–40 тыс. баррелей. Это говорит о том, что модель работает, но с некоторой погрешностью.\n",
    "\n",
    "**Итог**  \n",
    "Основываясь на показателях качества моделей (RMSE), можно сделать вывод, что регион 2 является наиболее перспективным, несмотря на более низкие средние показатели запасов.  \n",
    "Высокая точность модели позволяет снизить риски при принятии решений, что имеет решающее значение при инвестициях."
   ]
  },
  {
   "cell_type": "markdown",
   "metadata": {},
   "source": [
    "## Подготовка к расчёту прибыли"
   ]
  },
  {
   "cell_type": "markdown",
   "metadata": {},
   "source": [
    "Укажем ключевые значения для рассчетов прибыли."
   ]
  },
  {
   "cell_type": "code",
   "execution_count": 13,
   "metadata": {},
   "outputs": [],
   "source": [
    "BUDGET = 10000000000  # Бюджет на разработку скважин в регионе\n",
    "INCOME = 450000  # Доход с одной единицы (тыс. баррелей)\n",
    "NUM_OF_WELLS = 200  # Количество скважин, которые будут разрабатываться\n",
    "\n",
    "# Средние фактические запасы по регионам\n",
    "mean_product_0 = data_0['product'].mean()\n",
    "mean_product_1 = data_1['product'].mean()\n",
    "mean_product_2 = data_2['product'].mean()"
   ]
  },
  {
   "cell_type": "markdown",
   "metadata": {},
   "source": [
    "Рассчитаем достаточный объем сырья для безубыточной разработки новой скважины."
   ]
  },
  {
   "cell_type": "code",
   "execution_count": 14,
   "metadata": {
    "scrolled": true
   },
   "outputs": [
    {
     "data": {
      "text/markdown": [
       "\n",
       "Стоимость одной скважины: 50000000.0,  \n",
       "Минимальный объём для безубыточности: 111.11 тыс. баррелей\n"
      ],
      "text/plain": [
       "<IPython.core.display.Markdown object>"
      ]
     },
     "metadata": {},
     "output_type": "display_data"
    }
   ],
   "source": [
    "# Стоимость одной скважины\n",
    "cost_per_well = BUDGET / NUM_OF_WELLS\n",
    "\n",
    "# Минимальный объём сырья (в тыс. баррелей), необходимый для окупаемости одной скважины\n",
    "min_volume_per_well = cost_per_well / INCOME\n",
    "'Стоимость одной скважины:', cost_per_well, 'Минимальный объем сырья  на скважину для окупаемости:', min_volume_per_well\n",
    "display(Markdown(f\"\"\"\n",
    "Стоимость одной скважины: {cost_per_well},  \n",
    "Минимальный объём для безубыточности: {min_volume_per_well:.2f} тыс. баррелей\n",
    "\"\"\"))"
   ]
  },
  {
   "cell_type": "markdown",
   "metadata": {},
   "source": [
    "Сравним со средним значением каждого региона."
   ]
  },
  {
   "cell_type": "code",
   "execution_count": 15,
   "metadata": {},
   "outputs": [
    {
     "data": {
      "text/markdown": [
       "\n",
       "Сравнение средних запасов с порогом безубыточности (111.11 тыс. бр.)\n",
       "\n",
       "| Регион | Средний запас | Выше порога? |\n",
       "|--------|----------------|--------------|\n",
       "| 1      | 92.50 | Нет |\n",
       "| 2      | 68.83 | Нет |\n",
       "| 3      | 95.00 | Нет |\n"
      ],
      "text/plain": [
       "<IPython.core.display.Markdown object>"
      ]
     },
     "metadata": {},
     "output_type": "display_data"
    }
   ],
   "source": [
    "display(Markdown(f\"\"\"\n",
    "Сравнение средних запасов с порогом безубыточности ({min_volume_per_well:.2f} тыс. бр.)\n",
    "\n",
    "| Регион | Средний запас | Выше порога? |\n",
    "|--------|----------------|--------------|\n",
    "| 1      | {mean_product_0:.2f} | {'Да' if mean_product_0 >= min_volume_per_well else 'Нет'} |\n",
    "| 2      | {mean_product_1:.2f} | {'Да' if mean_product_1 >= min_volume_per_well else 'Нет'} |\n",
    "| 3      | {mean_product_2:.2f} | {'Да' if mean_product_2 >= min_volume_per_well else 'Нет'} |\n",
    "\"\"\"))"
   ]
  },
  {
   "cell_type": "markdown",
   "metadata": {},
   "source": [
    "### Вывод\n",
    "\n",
    "Ключевые параметры:\n",
    "- Бюджет на разработку скважин: 10 000 000 000 руб.\n",
    "- Количество скважин для разработки: 200\n",
    "- Доход с одной единицы (тыс. баррелей): 450 000 руб.\n",
    "- Стоимость одной скважины: 50 000 000 руб.\n",
    "- Минимальный объём сырья для окупаемости одной скважины: 111.11 тыс. баррелей\n",
    "\n",
    "Ни один из регионов не достигает уровня безубыточности в среднем. Поскольку средние запасы ниже порога, прибыль возможна только при точном отборе лучших скважин с большим объемом."
   ]
  },
  {
   "cell_type": "markdown",
   "metadata": {},
   "source": [
    "## Расчёт прибыли и рисков "
   ]
  },
  {
   "cell_type": "code",
   "execution_count": 16,
   "metadata": {},
   "outputs": [],
   "source": [
    "def calculate_profit(target, predictions, top_wells=200):\n",
    "    \"\"\"\n",
    "    Рассчитывает прибыль от разработки top_wells скважин, выбранных по наибольшим предсказаниям модели.\n",
    "    \n",
    "    Параметры:\n",
    "    - target: фактические значения объёма\n",
    "    - predictions: предсказания модели\n",
    "    - top_wells: количество скважин для разработки (по умолчанию 200)\n",
    "    \n",
    "    Возвращает:\n",
    "    - profit: прибыль в рублях\n",
    "    - total_volume: суммарный объём нефти в выбранных скважинах (тыс. баррелей)\n",
    "    \"\"\"\n",
    "    # Получаем индексы скважин с самыми высокими предсказаниями\n",
    "    best_indices = np.argsort(predictions)[-top_wells:]\n",
    "    \n",
    "    # Суммируем фактический объём в этих скважинах\n",
    "    total_volume = target.iloc[best_indices].sum()\n",
    "    \n",
    "    # Рассчитываем прибыль\n",
    "    revenue = total_volume * INCOME\n",
    "    profit = revenue - BUDGET\n",
    "    \n",
    "    return profit, total_volume\n",
    "\n",
    "def bootstrap_analysis(target, predictions, n_bootstrap=1000, random_state=12345):\n",
    "    \"\"\"\n",
    "    Проводит Bootstrap-анализ:\n",
    "    - На каждой итерации случайно выбирает 500 скважин\n",
    "    - Из них выбирает 200 с наибольшими предсказаниями\n",
    "    - Считает прибыль по этим 200 скважинам\n",
    "    \n",
    "    Использует pandas.sample() для выборки 500 скважин.\n",
    "    \n",
    "    Параметры:\n",
    "    - target: pd.Series, фактические значения объёма\n",
    "    - predictions: array-like, предсказания модели\n",
    "    - n_bootstrap: количество бутстрэп-выборок (по умолчанию 1000)\n",
    "    - random_state: по умолчанию 12345\n",
    "    \n",
    "    Возвращает:\n",
    "    - mean_profit: средняя прибыль\n",
    "    - conf_interval: 95% доверительный интервал\n",
    "    - loss_risk: доля убытков\n",
    "    - profits: массив прибылей\n",
    "    \"\"\"\n",
    "    # Преобразуем в Series с общим индексом\n",
    "    data = pd.DataFrame({\n",
    "        'target': target.reset_index(drop=True),\n",
    "        'predictions': pd.Series(predictions).reset_index(drop=True)\n",
    "    })\n",
    "    \n",
    "    state = np.random.RandomState(random_state)\n",
    "\n",
    "    profits = []\n",
    "    \n",
    "    for i in range(n_bootstrap):\n",
    "        seed = state.randint(0, 10000)\n",
    "        \n",
    "        # Случайно выбираем 500 скважин из валидационной выборки\n",
    "        sampled_500 = data.sample(n=500, replace=False, random_state=seed)\n",
    "        \n",
    "        # Из 500 выбираем 200 с самыми высокими предсказаниями\n",
    "        top_200 = sampled_500.nlargest(200, 'predictions')\n",
    "        \n",
    "        # Суммируем фактический объём (target) в этих 200 скважинах\n",
    "        total_volume = top_200['target'].sum()\n",
    "        \n",
    "        # Рассчитываем прибыль\n",
    "        revenue = total_volume * INCOME\n",
    "        profit = revenue - BUDGET\n",
    "        \n",
    "        profits.append(profit)\n",
    "    \n",
    "    profits = np.array(profits)\n",
    "    mean_profit = profits.mean()\n",
    "    conf_interval = (np.percentile(profits, 2.5), np.percentile(profits, 97.5))\n",
    "    loss_risk = (profits < 0).mean()\n",
    "    \n",
    "    return mean_profit, conf_interval, loss_risk, profits"
   ]
  },
  {
   "cell_type": "code",
   "execution_count": 17,
   "metadata": {},
   "outputs": [
    {
     "data": {
      "text/markdown": [
       "\n",
       "Прибыль при выборе 200 лучших скважин по предсказаниям модели\n",
       "\n",
       "| Регион | Суммарный объём (тыс. бр) | Прибыль (млрд руб.) |\n",
       "|--------|-------------------------------|----------------------|\n",
       "| 1      | 29601.8                | 3.321 |\n",
       "| 2      | 27589.1                | 2.415 |\n",
       "| 3      | 28245.2                | 2.710 |\n",
       "\n"
      ],
      "text/plain": [
       "<IPython.core.display.Markdown object>"
      ]
     },
     "metadata": {},
     "output_type": "display_data"
    }
   ],
   "source": [
    "profit_0, volume_0 = calculate_profit(results_0['target_valid'], results_0['predictions'])\n",
    "profit_1, volume_1 = calculate_profit(results_1['target_valid'], results_1['predictions'])\n",
    "profit_2, volume_2 = calculate_profit(results_2['target_valid'], results_2['predictions'])\n",
    "display(Markdown(f\"\"\"\n",
    "Прибыль при выборе 200 лучших скважин по предсказаниям модели\n",
    "\n",
    "| Регион | Суммарный объём (тыс. бр) | Прибыль (млрд руб.) |\n",
    "|--------|-------------------------------|----------------------|\n",
    "| 1      | {volume_0:.1f}                | {profit_0 / 1e9:.3f} |\n",
    "| 2      | {volume_1:.1f}                | {profit_1 / 1e9:.3f} |\n",
    "| 3      | {volume_2:.1f}                | {profit_2 / 1e9:.3f} |\n",
    "\n",
    "\"\"\"))"
   ]
  },
  {
   "cell_type": "markdown",
   "metadata": {},
   "source": [
    "Оценим риски."
   ]
  },
  {
   "cell_type": "code",
   "execution_count": 18,
   "metadata": {},
   "outputs": [
    {
     "name": "stdout",
     "output_type": "stream",
     "text": [
      "Регион 1:\n",
      "  Средняя прибыль: 0.397 млрд руб.\n",
      "  95% доверительный интервал: (-0.115, 0.915) млрд руб.\n",
      "  Риск убытков: 6.1%\n",
      "\n",
      "Регион 2:\n",
      "  Средняя прибыль: 0.446 млрд руб.\n",
      "  95% доверительный интервал: (0.034, 0.867) млрд руб.\n",
      "  Риск убытков: 1.9%\n",
      "\n",
      "Регион 3:\n",
      "  Средняя прибыль: 0.386 млрд руб.\n",
      "  95% доверительный интервал: (-0.195, 0.918) млрд руб.\n",
      "  Риск убытков: 8.3%\n",
      "\n"
     ]
    }
   ],
   "source": [
    "results_list = [results_0, results_1, results_2]\n",
    "\n",
    "best_region = None\n",
    "max_profit = -float('inf')\n",
    "safe_regions = []\n",
    "\n",
    "for i in range(3):\n",
    "    res = results_list[i]\n",
    "    mean_profit, conf_int, loss_risk, profits = bootstrap_analysis(\n",
    "        res['target_valid'], res['predictions']\n",
    "    )\n",
    "    \n",
    "    # Переводим в млрд для удобства\n",
    "    mean_profit_bln = mean_profit / 1e9\n",
    "    low_bln, high_bln = conf_int[0] / 1e9, conf_int[1] / 1e9\n",
    "    \n",
    "    print(f\"Регион {i+1}:\")\n",
    "    print(f\"  Средняя прибыль: {mean_profit_bln:.3f} млрд руб.\")\n",
    "    print(f\"  95% доверительный интервал: ({low_bln:.3f}, {high_bln:.3f}) млрд руб.\")\n",
    "    print(f\"  Риск убытков: {loss_risk:.1%}\")\n",
    "    \n",
    "    # Проверяем критерий компании\n",
    "    if loss_risk < 0.025:\n",
    "        safe_regions.append(i)\n",
    "        if mean_profit > max_profit:\n",
    "            max_profit = mean_profit\n",
    "            best_region = i\n",
    "    \n",
    "    print()"
   ]
  },
  {
   "cell_type": "markdown",
   "metadata": {},
   "source": [
    "## Вывод\n",
    "\n",
    "Объеденим данные для наглядности:\n",
    "\n",
    "| Параметр | Значение |\n",
    "|---------|---------|\n",
    "| Бюджет на разработку | 10 млрд руб. |\n",
    "| Количество скважин к разработке | 200 |\n",
    "| Доход с 1 тыс. баррелей | 450 000 руб. |\n",
    "| Стоимость одной скважины | 50 000 000 руб. |\n",
    "| Минимальный объём на скважину | 111.11 тыс. бр |\n",
    "\n",
    "| Регион | Средний запас  | RMSE модели | Выше порога (111.11)? |\n",
    "|--------|------------------------|------------|------------------------|\n",
    "| 1     | 92.50 тыс. бр       | 37.58      |  Нет                 |\n",
    "| 2     | 68.83 тыс. бр       | 0.89       | Нет                 |\n",
    "| 3     | 95 тыс. бр          | 40.03      | Нет                 |\n",
    "\n",
    "| Регион | Средняя прибыль | 95% доверительный интервал | Риск убытков |\n",
    "|--------|------------------|-----------------------------|--------------|\n",
    "| 1     | 0.397 млрд руб. | -0.115, 0.915 млрд руб.   | 6.1%         |\n",
    "| 2     | 0.446 млрд руб. | 0.034, 0.867 млрд руб.   | 1.9%         |\n",
    "| 3     | 0.386 млрд руб. | -0.195, 0.918 млрд руб.   | 8.3%         |\n",
    "\n",
    "Итого средние запасы в 3 регионе выше (95 тыс. бр), далее 1 регион (92,5 тыс. бр) и 2 (68,83 тыс. бр). Минимальный объем на скважину (111,11 тыс. бр) не достигает ни один регион. Значит выбирать нужно не по среднему, а смотреть 200 лучших скважин и будет очень важно уметь выбрать эти скважины.\n",
    "\n",
    "По качеству модели выигрывает 2 регион, там модель почти идеальна (0,89), далее у нас идет 1 регион (37,58) и 3 регион (40,03). Чем точнее модель, тем надежнее предсказания и ранжирование скважин.\n",
    "\n",
    "Прибыль в 1 и 3 регионах показывает и убыток, а риск убытков не проходит по критерию компании (< 2,5%). Второй регион не уходит в убыток и средняя прибыль выше остальных регионов.\n",
    "\n",
    "С учетом всего выявленного рекомендую взять 2 регион, так как:\n",
    "1. Это единственный регион, проходящий по критерию % риска. Тогда как 1 и 3 регионы не проходят по данному критерию (6,1% и 8,3% соответственно).\n",
    "2. Данный регион принесет в среднем больше прибыли, чем 1 и 3 регионы.\n",
    "3. Самая точная модель (RMSE = 0,89), которая подскажет, какие скважины стоит взять в работу.  \n",
    "Данный регион будет наиболее безопасным и прибыльным выбором."
   ]
  },
  {
   "cell_type": "markdown",
   "metadata": {},
   "source": [
    "Поставьте 'x' в выполненных пунктах. Далее нажмите Shift+Enter."
   ]
  }
 ],
 "metadata": {
  "ExecuteTimeLog": [
   {
    "duration": 12,
    "start_time": "2025-03-28T16:34:30.916Z"
   },
   {
    "duration": 444,
    "start_time": "2025-08-19T07:12:59.681Z"
   },
   {
    "duration": 222,
    "start_time": "2025-08-19T07:13:41.821Z"
   },
   {
    "duration": 168,
    "start_time": "2025-08-19T07:13:49.087Z"
   },
   {
    "duration": 178,
    "start_time": "2025-08-19T07:16:08.872Z"
   },
   {
    "duration": 165,
    "start_time": "2025-08-19T07:16:10.578Z"
   },
   {
    "duration": 19,
    "start_time": "2025-08-19T07:19:32.735Z"
   },
   {
    "duration": 74,
    "start_time": "2025-08-19T07:20:23.405Z"
   },
   {
    "duration": 63,
    "start_time": "2025-08-19T07:21:13.815Z"
   },
   {
    "duration": 61,
    "start_time": "2025-08-19T07:21:23.019Z"
   },
   {
    "duration": 19,
    "start_time": "2025-08-19T07:22:05.412Z"
   },
   {
    "duration": 19,
    "start_time": "2025-08-19T07:22:10.212Z"
   },
   {
    "duration": 50,
    "start_time": "2025-08-19T07:22:20.680Z"
   },
   {
    "duration": 73,
    "start_time": "2025-08-19T07:22:25.225Z"
   },
   {
    "duration": 6,
    "start_time": "2025-08-19T07:32:43.188Z"
   },
   {
    "duration": 1314,
    "start_time": "2025-08-19T07:32:58.692Z"
   },
   {
    "duration": 95,
    "start_time": "2025-08-19T07:33:23.678Z"
   },
   {
    "duration": 6,
    "start_time": "2025-08-19T07:34:16.165Z"
   },
   {
    "duration": 40,
    "start_time": "2025-08-19T07:34:17.824Z"
   },
   {
    "duration": 7,
    "start_time": "2025-08-19T07:35:16.140Z"
   },
   {
    "duration": 189,
    "start_time": "2025-08-19T07:35:17.781Z"
   },
   {
    "duration": 7,
    "start_time": "2025-08-19T07:35:29.148Z"
   },
   {
    "duration": 91,
    "start_time": "2025-08-19T07:35:30.378Z"
   },
   {
    "duration": 6,
    "start_time": "2025-08-19T07:35:37.647Z"
   },
   {
    "duration": 138,
    "start_time": "2025-08-19T07:35:38.532Z"
   },
   {
    "duration": 6,
    "start_time": "2025-08-19T07:36:13.852Z"
   },
   {
    "duration": 60,
    "start_time": "2025-08-19T07:36:15.903Z"
   },
   {
    "duration": 6,
    "start_time": "2025-08-19T07:36:29.750Z"
   },
   {
    "duration": 65,
    "start_time": "2025-08-19T07:36:30.801Z"
   },
   {
    "duration": 6,
    "start_time": "2025-08-19T07:36:58.408Z"
   },
   {
    "duration": 32,
    "start_time": "2025-08-19T07:36:59.408Z"
   },
   {
    "duration": 436,
    "start_time": "2025-08-19T07:39:36.244Z"
   },
   {
    "duration": 113,
    "start_time": "2025-08-19T07:39:44.970Z"
   },
   {
    "duration": 98,
    "start_time": "2025-08-19T07:39:48.283Z"
   },
   {
    "duration": 513,
    "start_time": "2025-08-19T07:39:50.450Z"
   },
   {
    "duration": 94,
    "start_time": "2025-08-19T07:39:55.189Z"
   },
   {
    "duration": 446,
    "start_time": "2025-08-19T07:39:59.437Z"
   },
   {
    "duration": 5,
    "start_time": "2025-08-19T07:44:54.399Z"
   },
   {
    "duration": 375,
    "start_time": "2025-08-19T07:44:55.301Z"
   },
   {
    "duration": 4,
    "start_time": "2025-08-19T07:45:17.676Z"
   },
   {
    "duration": 3,
    "start_time": "2025-08-19T08:05:48.883Z"
   },
   {
    "duration": 161,
    "start_time": "2025-08-19T08:09:02.871Z"
   },
   {
    "duration": 5,
    "start_time": "2025-08-19T08:09:13.648Z"
   },
   {
    "duration": 146,
    "start_time": "2025-08-19T08:10:03.717Z"
   },
   {
    "duration": 143,
    "start_time": "2025-08-19T08:10:08.511Z"
   },
   {
    "duration": 101,
    "start_time": "2025-08-19T08:10:19.501Z"
   },
   {
    "duration": 5,
    "start_time": "2025-08-19T08:11:56.639Z"
   },
   {
    "duration": 5,
    "start_time": "2025-08-19T08:12:40.602Z"
   },
   {
    "duration": 4,
    "start_time": "2025-08-19T08:13:01.153Z"
   },
   {
    "duration": 5,
    "start_time": "2025-08-19T08:15:13.733Z"
   },
   {
    "duration": 139,
    "start_time": "2025-08-19T08:15:17.885Z"
   },
   {
    "duration": 5,
    "start_time": "2025-08-19T08:15:22.940Z"
   },
   {
    "duration": 111,
    "start_time": "2025-08-19T08:15:28.373Z"
   },
   {
    "duration": 252,
    "start_time": "2025-08-19T08:15:32.196Z"
   },
   {
    "duration": 161,
    "start_time": "2025-08-19T08:15:37.841Z"
   },
   {
    "duration": 92,
    "start_time": "2025-08-19T08:15:42.928Z"
   },
   {
    "duration": 102,
    "start_time": "2025-08-19T08:15:58.091Z"
   },
   {
    "duration": 139,
    "start_time": "2025-08-19T08:16:01.980Z"
   },
   {
    "duration": 95,
    "start_time": "2025-08-19T08:16:10.729Z"
   },
   {
    "duration": 141,
    "start_time": "2025-08-19T08:16:21.117Z"
   },
   {
    "duration": 174,
    "start_time": "2025-08-19T08:16:23.776Z"
   },
   {
    "duration": 8,
    "start_time": "2025-08-19T08:16:36.590Z"
   },
   {
    "duration": 14,
    "start_time": "2025-08-19T08:16:55.784Z"
   },
   {
    "duration": 7,
    "start_time": "2025-08-19T08:17:11.899Z"
   },
   {
    "duration": 122,
    "start_time": "2025-08-19T08:17:23.105Z"
   },
   {
    "duration": 9,
    "start_time": "2025-08-19T08:17:27.552Z"
   },
   {
    "duration": 8,
    "start_time": "2025-08-19T08:17:31.833Z"
   },
   {
    "duration": 8,
    "start_time": "2025-08-19T08:17:38.132Z"
   },
   {
    "duration": 9,
    "start_time": "2025-08-19T08:17:40.903Z"
   },
   {
    "duration": 9,
    "start_time": "2025-08-19T08:17:44.479Z"
   },
   {
    "duration": 179,
    "start_time": "2025-08-19T08:17:52.339Z"
   },
   {
    "duration": 5,
    "start_time": "2025-08-19T08:18:54.765Z"
   },
   {
    "duration": 6,
    "start_time": "2025-08-19T08:18:56.670Z"
   },
   {
    "duration": 4,
    "start_time": "2025-08-19T08:21:15.990Z"
   },
   {
    "duration": 48,
    "start_time": "2025-08-19T08:22:34.232Z"
   },
   {
    "duration": 64,
    "start_time": "2025-08-19T08:22:41.319Z"
   },
   {
    "duration": 51,
    "start_time": "2025-08-19T08:22:49.030Z"
   },
   {
    "duration": 543,
    "start_time": "2025-08-19T08:25:14.220Z"
   },
   {
    "duration": 449,
    "start_time": "2025-08-19T08:25:32.328Z"
   },
   {
    "duration": 511,
    "start_time": "2025-08-19T08:25:36.248Z"
   },
   {
    "duration": 526,
    "start_time": "2025-08-19T08:25:51.436Z"
   },
   {
    "duration": 412,
    "start_time": "2025-08-19T08:26:03.262Z"
   },
   {
    "duration": 13,
    "start_time": "2025-08-19T08:27:56.853Z"
   },
   {
    "duration": 13,
    "start_time": "2025-08-19T08:28:06.321Z"
   },
   {
    "duration": 73,
    "start_time": "2025-08-19T08:28:15.919Z"
   },
   {
    "duration": 12,
    "start_time": "2025-08-19T08:31:07.181Z"
   },
   {
    "duration": 14,
    "start_time": "2025-08-19T08:31:59.683Z"
   },
   {
    "duration": 8,
    "start_time": "2025-08-19T08:32:11.794Z"
   },
   {
    "duration": 6,
    "start_time": "2025-08-19T08:32:15.255Z"
   },
   {
    "duration": 7,
    "start_time": "2025-08-19T08:59:57.836Z"
   },
   {
    "duration": 14,
    "start_time": "2025-08-19T09:00:22.126Z"
   },
   {
    "duration": 6,
    "start_time": "2025-08-19T09:00:39.255Z"
   },
   {
    "duration": 381,
    "start_time": "2025-08-19T09:00:40.602Z"
   },
   {
    "duration": 6,
    "start_time": "2025-08-19T09:00:50.852Z"
   },
   {
    "duration": 504,
    "start_time": "2025-08-19T09:00:51.557Z"
   },
   {
    "duration": 4,
    "start_time": "2025-08-19T09:00:57.150Z"
   },
   {
    "duration": 5,
    "start_time": "2025-08-19T09:01:02.170Z"
   },
   {
    "duration": 4,
    "start_time": "2025-08-19T09:01:09.453Z"
   },
   {
    "duration": 49,
    "start_time": "2025-08-19T09:01:25.645Z"
   },
   {
    "duration": 4,
    "start_time": "2025-08-19T09:02:44.944Z"
   },
   {
    "duration": 79,
    "start_time": "2025-08-19T09:03:46.704Z"
   },
   {
    "duration": 56,
    "start_time": "2025-08-19T09:03:54.927Z"
   },
   {
    "duration": 1080,
    "start_time": "2025-08-19T09:04:17.494Z"
   },
   {
    "duration": 1080,
    "start_time": "2025-08-19T09:04:39.718Z"
   },
   {
    "duration": 1089,
    "start_time": "2025-08-19T09:04:54.900Z"
   },
   {
    "duration": 6,
    "start_time": "2025-08-19T09:05:52.774Z"
   },
   {
    "duration": 75,
    "start_time": "2025-08-19T09:05:57.877Z"
   },
   {
    "duration": 4,
    "start_time": "2025-08-19T09:13:53.477Z"
   },
   {
    "duration": 14,
    "start_time": "2025-08-19T09:14:49.661Z"
   },
   {
    "duration": 13,
    "start_time": "2025-08-19T09:15:04.188Z"
   },
   {
    "duration": 6,
    "start_time": "2025-08-19T09:15:32.451Z"
   },
   {
    "duration": 566,
    "start_time": "2025-08-19T09:15:34.700Z"
   },
   {
    "duration": 7,
    "start_time": "2025-08-19T09:15:52.065Z"
   },
   {
    "duration": 465,
    "start_time": "2025-08-19T09:15:53.198Z"
   },
   {
    "duration": 15,
    "start_time": "2025-08-19T09:16:04.261Z"
   },
   {
    "duration": 91,
    "start_time": "2025-08-19T09:16:12.946Z"
   },
   {
    "duration": 63,
    "start_time": "2025-08-19T09:22:57.008Z"
   },
   {
    "duration": 65,
    "start_time": "2025-08-19T09:23:15.774Z"
   },
   {
    "duration": 48,
    "start_time": "2025-08-19T09:23:21.202Z"
   },
   {
    "duration": 10,
    "start_time": "2025-08-19T09:44:39.046Z"
   },
   {
    "duration": 13,
    "start_time": "2025-08-19T09:53:55.234Z"
   },
   {
    "duration": 4354,
    "start_time": "2025-08-19T09:54:03.275Z"
   },
   {
    "duration": 13007,
    "start_time": "2025-08-19T09:54:57.963Z"
   },
   {
    "duration": 12963,
    "start_time": "2025-08-19T09:55:36.898Z"
   },
   {
    "duration": 12922,
    "start_time": "2025-08-19T09:57:47.548Z"
   },
   {
    "duration": 1704,
    "start_time": "2025-08-19T10:32:14.176Z"
   },
   {
    "duration": 194,
    "start_time": "2025-08-19T10:32:15.882Z"
   },
   {
    "duration": 20,
    "start_time": "2025-08-19T10:32:16.078Z"
   },
   {
    "duration": 80,
    "start_time": "2025-08-19T10:32:16.100Z"
   },
   {
    "duration": 159,
    "start_time": "2025-08-19T10:32:16.182Z"
   },
   {
    "duration": 22,
    "start_time": "2025-08-19T10:32:16.343Z"
   },
   {
    "duration": 60,
    "start_time": "2025-08-19T10:32:16.367Z"
   },
   {
    "duration": 179,
    "start_time": "2025-08-19T10:32:16.429Z"
   },
   {
    "duration": 18,
    "start_time": "2025-08-19T10:32:16.609Z"
   },
   {
    "duration": 82,
    "start_time": "2025-08-19T10:32:16.629Z"
   },
   {
    "duration": 7,
    "start_time": "2025-08-19T10:32:16.713Z"
   },
   {
    "duration": 648,
    "start_time": "2025-08-19T10:32:16.721Z"
   },
   {
    "duration": 5,
    "start_time": "2025-08-19T10:32:17.461Z"
   },
   {
    "duration": 87,
    "start_time": "2025-08-19T10:32:17.469Z"
   },
   {
    "duration": 179,
    "start_time": "2025-08-19T10:32:17.558Z"
   },
   {
    "duration": 9,
    "start_time": "2025-08-19T10:32:17.739Z"
   },
   {
    "duration": 87,
    "start_time": "2025-08-19T10:32:17.751Z"
   },
   {
    "duration": 12708,
    "start_time": "2025-08-19T10:32:17.839Z"
   },
   {
    "duration": 18362,
    "start_time": "2025-08-19T14:39:49.527Z"
   },
   {
    "duration": 149,
    "start_time": "2025-08-19T14:40:07.891Z"
   },
   {
    "duration": 20,
    "start_time": "2025-08-19T14:40:08.042Z"
   },
   {
    "duration": 49,
    "start_time": "2025-08-19T14:40:08.063Z"
   },
   {
    "duration": 151,
    "start_time": "2025-08-19T14:40:08.113Z"
   },
   {
    "duration": 15,
    "start_time": "2025-08-19T14:40:08.265Z"
   },
   {
    "duration": 48,
    "start_time": "2025-08-19T14:40:08.282Z"
   },
   {
    "duration": 141,
    "start_time": "2025-08-19T14:40:08.352Z"
   },
   {
    "duration": 14,
    "start_time": "2025-08-19T14:40:08.494Z"
   },
   {
    "duration": 64,
    "start_time": "2025-08-19T14:40:08.510Z"
   },
   {
    "duration": 6,
    "start_time": "2025-08-19T14:40:08.575Z"
   },
   {
    "duration": 574,
    "start_time": "2025-08-19T14:40:08.582Z"
   },
   {
    "duration": 93,
    "start_time": "2025-08-19T14:40:09.159Z"
   },
   {
    "duration": 70,
    "start_time": "2025-08-19T14:40:09.253Z"
   },
   {
    "duration": 47,
    "start_time": "2025-08-19T14:40:09.325Z"
   },
   {
    "duration": 7,
    "start_time": "2025-08-19T14:40:09.374Z"
   },
   {
    "duration": 58,
    "start_time": "2025-08-19T14:40:09.383Z"
   },
   {
    "duration": 10397,
    "start_time": "2025-08-19T14:40:09.443Z"
   },
   {
    "duration": 6,
    "start_time": "2025-08-19T14:41:18.304Z"
   },
   {
    "duration": 1573,
    "start_time": "2025-08-19T16:31:01.143Z"
   },
   {
    "duration": 144,
    "start_time": "2025-08-19T16:31:02.718Z"
   },
   {
    "duration": 19,
    "start_time": "2025-08-19T16:31:02.863Z"
   },
   {
    "duration": 44,
    "start_time": "2025-08-19T16:31:02.885Z"
   },
   {
    "duration": 166,
    "start_time": "2025-08-19T16:31:02.930Z"
   },
   {
    "duration": 13,
    "start_time": "2025-08-19T16:31:03.097Z"
   },
   {
    "duration": 99,
    "start_time": "2025-08-19T16:31:03.112Z"
   },
   {
    "duration": 228,
    "start_time": "2025-08-19T16:31:03.212Z"
   },
   {
    "duration": 13,
    "start_time": "2025-08-19T16:31:03.442Z"
   },
   {
    "duration": 57,
    "start_time": "2025-08-19T16:31:03.458Z"
   },
   {
    "duration": 5,
    "start_time": "2025-08-19T16:31:03.516Z"
   },
   {
    "duration": 555,
    "start_time": "2025-08-19T16:31:03.522Z"
   },
   {
    "duration": 7,
    "start_time": "2025-08-19T16:31:04.079Z"
   },
   {
    "duration": 46,
    "start_time": "2025-08-19T16:31:04.177Z"
   },
   {
    "duration": 45,
    "start_time": "2025-08-19T16:31:04.225Z"
   },
   {
    "duration": 7,
    "start_time": "2025-08-19T16:31:04.272Z"
   },
   {
    "duration": 57,
    "start_time": "2025-08-19T16:31:04.281Z"
   },
   {
    "duration": 4500,
    "start_time": "2025-08-19T16:31:04.340Z"
   },
   {
    "duration": 64,
    "start_time": "2025-08-19T16:31:26.944Z"
   },
   {
    "duration": 1298,
    "start_time": "2025-08-19T16:31:35.526Z"
   },
   {
    "duration": 140,
    "start_time": "2025-08-19T16:31:36.827Z"
   },
   {
    "duration": 14,
    "start_time": "2025-08-19T16:31:36.976Z"
   },
   {
    "duration": 110,
    "start_time": "2025-08-19T16:31:36.992Z"
   },
   {
    "duration": 127,
    "start_time": "2025-08-19T16:31:37.104Z"
   },
   {
    "duration": 13,
    "start_time": "2025-08-19T16:31:37.232Z"
   },
   {
    "duration": 72,
    "start_time": "2025-08-19T16:31:37.246Z"
   },
   {
    "duration": 129,
    "start_time": "2025-08-19T16:31:37.319Z"
   },
   {
    "duration": 13,
    "start_time": "2025-08-19T16:31:37.449Z"
   },
   {
    "duration": 49,
    "start_time": "2025-08-19T16:31:37.463Z"
   },
   {
    "duration": 4,
    "start_time": "2025-08-19T16:31:37.514Z"
   },
   {
    "duration": 458,
    "start_time": "2025-08-19T16:31:37.520Z"
   },
   {
    "duration": 95,
    "start_time": "2025-08-19T16:31:37.981Z"
   },
   {
    "duration": 44,
    "start_time": "2025-08-19T16:31:38.078Z"
   },
   {
    "duration": 43,
    "start_time": "2025-08-19T16:31:38.124Z"
   },
   {
    "duration": 6,
    "start_time": "2025-08-19T16:31:38.169Z"
   },
   {
    "duration": 58,
    "start_time": "2025-08-19T16:31:38.177Z"
   },
   {
    "duration": 4402,
    "start_time": "2025-08-19T16:31:38.236Z"
   },
   {
    "duration": 4526,
    "start_time": "2025-08-19T16:35:28.962Z"
   },
   {
    "duration": 1397,
    "start_time": "2025-08-19T16:53:30.842Z"
   },
   {
    "duration": 149,
    "start_time": "2025-08-19T16:53:32.241Z"
   },
   {
    "duration": 14,
    "start_time": "2025-08-19T16:53:32.391Z"
   },
   {
    "duration": 64,
    "start_time": "2025-08-19T16:53:32.407Z"
   },
   {
    "duration": 212,
    "start_time": "2025-08-19T16:53:32.473Z"
   },
   {
    "duration": 12,
    "start_time": "2025-08-19T16:53:32.686Z"
   },
   {
    "duration": 55,
    "start_time": "2025-08-19T16:53:32.700Z"
   },
   {
    "duration": 138,
    "start_time": "2025-08-19T16:53:32.756Z"
   },
   {
    "duration": 13,
    "start_time": "2025-08-19T16:53:32.896Z"
   },
   {
    "duration": 45,
    "start_time": "2025-08-19T16:53:32.911Z"
   },
   {
    "duration": 20,
    "start_time": "2025-08-19T16:53:32.958Z"
   },
   {
    "duration": 504,
    "start_time": "2025-08-19T16:53:32.980Z"
   },
   {
    "duration": 90,
    "start_time": "2025-08-19T16:53:33.487Z"
   },
   {
    "duration": 56,
    "start_time": "2025-08-19T16:53:33.578Z"
   },
   {
    "duration": 39,
    "start_time": "2025-08-19T16:53:33.635Z"
   },
   {
    "duration": 7,
    "start_time": "2025-08-19T16:53:33.675Z"
   },
   {
    "duration": 146,
    "start_time": "2025-08-19T16:53:33.683Z"
   },
   {
    "duration": 5155,
    "start_time": "2025-08-19T16:53:33.831Z"
   }
  ],
  "kernelspec": {
   "display_name": "Python [conda env:base] *",
   "language": "python",
   "name": "conda-base-py"
  },
  "language_info": {
   "codemirror_mode": {
    "name": "ipython",
    "version": 3
   },
   "file_extension": ".py",
   "mimetype": "text/x-python",
   "name": "python",
   "nbconvert_exporter": "python",
   "pygments_lexer": "ipython3",
   "version": "3.13.5"
  },
  "toc": {
   "base_numbering": 1,
   "nav_menu": {},
   "number_sections": true,
   "sideBar": true,
   "skip_h1_title": true,
   "title_cell": "Table of Contents",
   "title_sidebar": "Contents",
   "toc_cell": false,
   "toc_position": {
    "height": "calc(100% - 180px)",
    "left": "10px",
    "top": "150px",
    "width": "388.391px"
   },
   "toc_section_display": true,
   "toc_window_display": false
  }
 },
 "nbformat": 4,
 "nbformat_minor": 4
}
