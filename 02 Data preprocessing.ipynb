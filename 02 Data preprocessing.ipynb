{
 "cells": [
  {
   "cell_type": "markdown",
   "id": "39b1163e",
   "metadata": {
    "deletable": false,
    "editable": false,
    "id": "c81daeeb"
   },
   "source": [
    "# Исследование надежности заемщиков\n"
   ]
  },
  {
   "cell_type": "markdown",
   "id": "fb2ed49c",
   "metadata": {
    "deletable": false,
    "editable": false,
    "id": "827c20bf"
   },
   "source": [
    "Во второй части проекта вы выполните шаги 3 и 4. Их вручную проверит ревьюер.\n",
    "Чтобы вам не пришлось писать код заново для шагов 1 и 2, мы добавили авторские решения в ячейки с кодом. \n",
    "\n"
   ]
  },
  {
   "cell_type": "markdown",
   "id": "4161107a",
   "metadata": {
    "deletable": false,
    "editable": false,
    "id": "744d7639"
   },
   "source": [
    "## Откройте таблицу и изучите общую информацию о данных"
   ]
  },
  {
   "cell_type": "markdown",
   "id": "1b5d2160",
   "metadata": {
    "deletable": false,
    "editable": false,
    "id": "e7a14c31"
   },
   "source": [
    "**Задание 1. Импортируйте библиотеку pandas. Считайте данные из csv-файла в датафрейм и сохраните в переменную `data`. Путь к файлу:**\n",
    "\n",
    "`/datasets/data.csv`"
   ]
  },
  {
   "cell_type": "code",
   "execution_count": 1,
   "id": "e1313afa",
   "metadata": {
    "deletable": false,
    "id": "7bcf75c9"
   },
   "outputs": [],
   "source": [
    "import pandas as pd\n",
    "\n",
    "try:\n",
    "    data = pd.read_csv('/datasets/data.csv')\n",
    "except:\n",
    "    data = pd.read_csv('https://code.s3.yandex.net/datasets/data.csv')"
   ]
  },
  {
   "cell_type": "markdown",
   "id": "e4bf597d",
   "metadata": {
    "deletable": false,
    "editable": false,
    "id": "b8038fe3"
   },
   "source": [
    "**Задание 2. Выведите первые 20 строчек датафрейма `data` на экран.**"
   ]
  },
  {
   "cell_type": "code",
   "execution_count": 2,
   "id": "e90faa15",
   "metadata": {
    "deletable": false,
    "id": "2a7cab99",
    "outputId": "1a8f3ef2-d323-4ec2-ddf7-89670b5944c4"
   },
   "outputs": [
    {
     "data": {
      "text/html": [
       "<div>\n",
       "<style scoped>\n",
       "    .dataframe tbody tr th:only-of-type {\n",
       "        vertical-align: middle;\n",
       "    }\n",
       "\n",
       "    .dataframe tbody tr th {\n",
       "        vertical-align: top;\n",
       "    }\n",
       "\n",
       "    .dataframe thead th {\n",
       "        text-align: right;\n",
       "    }\n",
       "</style>\n",
       "<table border=\"1\" class=\"dataframe\">\n",
       "  <thead>\n",
       "    <tr style=\"text-align: right;\">\n",
       "      <th></th>\n",
       "      <th>children</th>\n",
       "      <th>days_employed</th>\n",
       "      <th>dob_years</th>\n",
       "      <th>education</th>\n",
       "      <th>education_id</th>\n",
       "      <th>family_status</th>\n",
       "      <th>family_status_id</th>\n",
       "      <th>gender</th>\n",
       "      <th>income_type</th>\n",
       "      <th>debt</th>\n",
       "      <th>total_income</th>\n",
       "      <th>purpose</th>\n",
       "    </tr>\n",
       "  </thead>\n",
       "  <tbody>\n",
       "    <tr>\n",
       "      <th>0</th>\n",
       "      <td>1</td>\n",
       "      <td>-8437.673028</td>\n",
       "      <td>42</td>\n",
       "      <td>высшее</td>\n",
       "      <td>0</td>\n",
       "      <td>женат / замужем</td>\n",
       "      <td>0</td>\n",
       "      <td>F</td>\n",
       "      <td>сотрудник</td>\n",
       "      <td>0</td>\n",
       "      <td>253875.639453</td>\n",
       "      <td>покупка жилья</td>\n",
       "    </tr>\n",
       "    <tr>\n",
       "      <th>1</th>\n",
       "      <td>1</td>\n",
       "      <td>-4024.803754</td>\n",
       "      <td>36</td>\n",
       "      <td>среднее</td>\n",
       "      <td>1</td>\n",
       "      <td>женат / замужем</td>\n",
       "      <td>0</td>\n",
       "      <td>F</td>\n",
       "      <td>сотрудник</td>\n",
       "      <td>0</td>\n",
       "      <td>112080.014102</td>\n",
       "      <td>приобретение автомобиля</td>\n",
       "    </tr>\n",
       "    <tr>\n",
       "      <th>2</th>\n",
       "      <td>0</td>\n",
       "      <td>-5623.422610</td>\n",
       "      <td>33</td>\n",
       "      <td>Среднее</td>\n",
       "      <td>1</td>\n",
       "      <td>женат / замужем</td>\n",
       "      <td>0</td>\n",
       "      <td>M</td>\n",
       "      <td>сотрудник</td>\n",
       "      <td>0</td>\n",
       "      <td>145885.952297</td>\n",
       "      <td>покупка жилья</td>\n",
       "    </tr>\n",
       "    <tr>\n",
       "      <th>3</th>\n",
       "      <td>3</td>\n",
       "      <td>-4124.747207</td>\n",
       "      <td>32</td>\n",
       "      <td>среднее</td>\n",
       "      <td>1</td>\n",
       "      <td>женат / замужем</td>\n",
       "      <td>0</td>\n",
       "      <td>M</td>\n",
       "      <td>сотрудник</td>\n",
       "      <td>0</td>\n",
       "      <td>267628.550329</td>\n",
       "      <td>дополнительное образование</td>\n",
       "    </tr>\n",
       "    <tr>\n",
       "      <th>4</th>\n",
       "      <td>0</td>\n",
       "      <td>340266.072047</td>\n",
       "      <td>53</td>\n",
       "      <td>среднее</td>\n",
       "      <td>1</td>\n",
       "      <td>гражданский брак</td>\n",
       "      <td>1</td>\n",
       "      <td>F</td>\n",
       "      <td>пенсионер</td>\n",
       "      <td>0</td>\n",
       "      <td>158616.077870</td>\n",
       "      <td>сыграть свадьбу</td>\n",
       "    </tr>\n",
       "    <tr>\n",
       "      <th>5</th>\n",
       "      <td>0</td>\n",
       "      <td>-926.185831</td>\n",
       "      <td>27</td>\n",
       "      <td>высшее</td>\n",
       "      <td>0</td>\n",
       "      <td>гражданский брак</td>\n",
       "      <td>1</td>\n",
       "      <td>M</td>\n",
       "      <td>компаньон</td>\n",
       "      <td>0</td>\n",
       "      <td>255763.565419</td>\n",
       "      <td>покупка жилья</td>\n",
       "    </tr>\n",
       "    <tr>\n",
       "      <th>6</th>\n",
       "      <td>0</td>\n",
       "      <td>-2879.202052</td>\n",
       "      <td>43</td>\n",
       "      <td>высшее</td>\n",
       "      <td>0</td>\n",
       "      <td>женат / замужем</td>\n",
       "      <td>0</td>\n",
       "      <td>F</td>\n",
       "      <td>компаньон</td>\n",
       "      <td>0</td>\n",
       "      <td>240525.971920</td>\n",
       "      <td>операции с жильем</td>\n",
       "    </tr>\n",
       "    <tr>\n",
       "      <th>7</th>\n",
       "      <td>0</td>\n",
       "      <td>-152.779569</td>\n",
       "      <td>50</td>\n",
       "      <td>СРЕДНЕЕ</td>\n",
       "      <td>1</td>\n",
       "      <td>женат / замужем</td>\n",
       "      <td>0</td>\n",
       "      <td>M</td>\n",
       "      <td>сотрудник</td>\n",
       "      <td>0</td>\n",
       "      <td>135823.934197</td>\n",
       "      <td>образование</td>\n",
       "    </tr>\n",
       "    <tr>\n",
       "      <th>8</th>\n",
       "      <td>2</td>\n",
       "      <td>-6929.865299</td>\n",
       "      <td>35</td>\n",
       "      <td>ВЫСШЕЕ</td>\n",
       "      <td>0</td>\n",
       "      <td>гражданский брак</td>\n",
       "      <td>1</td>\n",
       "      <td>F</td>\n",
       "      <td>сотрудник</td>\n",
       "      <td>0</td>\n",
       "      <td>95856.832424</td>\n",
       "      <td>на проведение свадьбы</td>\n",
       "    </tr>\n",
       "    <tr>\n",
       "      <th>9</th>\n",
       "      <td>0</td>\n",
       "      <td>-2188.756445</td>\n",
       "      <td>41</td>\n",
       "      <td>среднее</td>\n",
       "      <td>1</td>\n",
       "      <td>женат / замужем</td>\n",
       "      <td>0</td>\n",
       "      <td>M</td>\n",
       "      <td>сотрудник</td>\n",
       "      <td>0</td>\n",
       "      <td>144425.938277</td>\n",
       "      <td>покупка жилья для семьи</td>\n",
       "    </tr>\n",
       "    <tr>\n",
       "      <th>10</th>\n",
       "      <td>2</td>\n",
       "      <td>-4171.483647</td>\n",
       "      <td>36</td>\n",
       "      <td>высшее</td>\n",
       "      <td>0</td>\n",
       "      <td>женат / замужем</td>\n",
       "      <td>0</td>\n",
       "      <td>M</td>\n",
       "      <td>компаньон</td>\n",
       "      <td>0</td>\n",
       "      <td>113943.491460</td>\n",
       "      <td>покупка недвижимости</td>\n",
       "    </tr>\n",
       "    <tr>\n",
       "      <th>11</th>\n",
       "      <td>0</td>\n",
       "      <td>-792.701887</td>\n",
       "      <td>40</td>\n",
       "      <td>среднее</td>\n",
       "      <td>1</td>\n",
       "      <td>женат / замужем</td>\n",
       "      <td>0</td>\n",
       "      <td>F</td>\n",
       "      <td>сотрудник</td>\n",
       "      <td>0</td>\n",
       "      <td>77069.234271</td>\n",
       "      <td>покупка коммерческой недвижимости</td>\n",
       "    </tr>\n",
       "    <tr>\n",
       "      <th>12</th>\n",
       "      <td>0</td>\n",
       "      <td>NaN</td>\n",
       "      <td>65</td>\n",
       "      <td>среднее</td>\n",
       "      <td>1</td>\n",
       "      <td>гражданский брак</td>\n",
       "      <td>1</td>\n",
       "      <td>M</td>\n",
       "      <td>пенсионер</td>\n",
       "      <td>0</td>\n",
       "      <td>NaN</td>\n",
       "      <td>сыграть свадьбу</td>\n",
       "    </tr>\n",
       "    <tr>\n",
       "      <th>13</th>\n",
       "      <td>0</td>\n",
       "      <td>-1846.641941</td>\n",
       "      <td>54</td>\n",
       "      <td>неоконченное высшее</td>\n",
       "      <td>2</td>\n",
       "      <td>женат / замужем</td>\n",
       "      <td>0</td>\n",
       "      <td>F</td>\n",
       "      <td>сотрудник</td>\n",
       "      <td>0</td>\n",
       "      <td>130458.228857</td>\n",
       "      <td>приобретение автомобиля</td>\n",
       "    </tr>\n",
       "    <tr>\n",
       "      <th>14</th>\n",
       "      <td>0</td>\n",
       "      <td>-1844.956182</td>\n",
       "      <td>56</td>\n",
       "      <td>высшее</td>\n",
       "      <td>0</td>\n",
       "      <td>гражданский брак</td>\n",
       "      <td>1</td>\n",
       "      <td>F</td>\n",
       "      <td>компаньон</td>\n",
       "      <td>1</td>\n",
       "      <td>165127.911772</td>\n",
       "      <td>покупка жилой недвижимости</td>\n",
       "    </tr>\n",
       "    <tr>\n",
       "      <th>15</th>\n",
       "      <td>1</td>\n",
       "      <td>-972.364419</td>\n",
       "      <td>26</td>\n",
       "      <td>среднее</td>\n",
       "      <td>1</td>\n",
       "      <td>женат / замужем</td>\n",
       "      <td>0</td>\n",
       "      <td>F</td>\n",
       "      <td>сотрудник</td>\n",
       "      <td>0</td>\n",
       "      <td>116820.904450</td>\n",
       "      <td>строительство собственной недвижимости</td>\n",
       "    </tr>\n",
       "    <tr>\n",
       "      <th>16</th>\n",
       "      <td>0</td>\n",
       "      <td>-1719.934226</td>\n",
       "      <td>35</td>\n",
       "      <td>среднее</td>\n",
       "      <td>1</td>\n",
       "      <td>женат / замужем</td>\n",
       "      <td>0</td>\n",
       "      <td>F</td>\n",
       "      <td>сотрудник</td>\n",
       "      <td>0</td>\n",
       "      <td>289202.704229</td>\n",
       "      <td>недвижимость</td>\n",
       "    </tr>\n",
       "    <tr>\n",
       "      <th>17</th>\n",
       "      <td>0</td>\n",
       "      <td>-2369.999720</td>\n",
       "      <td>33</td>\n",
       "      <td>высшее</td>\n",
       "      <td>0</td>\n",
       "      <td>гражданский брак</td>\n",
       "      <td>1</td>\n",
       "      <td>M</td>\n",
       "      <td>сотрудник</td>\n",
       "      <td>0</td>\n",
       "      <td>90410.586745</td>\n",
       "      <td>строительство недвижимости</td>\n",
       "    </tr>\n",
       "    <tr>\n",
       "      <th>18</th>\n",
       "      <td>0</td>\n",
       "      <td>400281.136913</td>\n",
       "      <td>53</td>\n",
       "      <td>среднее</td>\n",
       "      <td>1</td>\n",
       "      <td>вдовец / вдова</td>\n",
       "      <td>2</td>\n",
       "      <td>F</td>\n",
       "      <td>пенсионер</td>\n",
       "      <td>0</td>\n",
       "      <td>56823.777243</td>\n",
       "      <td>на покупку подержанного автомобиля</td>\n",
       "    </tr>\n",
       "    <tr>\n",
       "      <th>19</th>\n",
       "      <td>0</td>\n",
       "      <td>-10038.818549</td>\n",
       "      <td>48</td>\n",
       "      <td>СРЕДНЕЕ</td>\n",
       "      <td>1</td>\n",
       "      <td>в разводе</td>\n",
       "      <td>3</td>\n",
       "      <td>F</td>\n",
       "      <td>сотрудник</td>\n",
       "      <td>0</td>\n",
       "      <td>242831.107982</td>\n",
       "      <td>на покупку своего автомобиля</td>\n",
       "    </tr>\n",
       "  </tbody>\n",
       "</table>\n",
       "</div>"
      ],
      "text/plain": [
       "    children  days_employed  dob_years            education  education_id  \\\n",
       "0          1   -8437.673028         42               высшее             0   \n",
       "1          1   -4024.803754         36              среднее             1   \n",
       "2          0   -5623.422610         33              Среднее             1   \n",
       "3          3   -4124.747207         32              среднее             1   \n",
       "4          0  340266.072047         53              среднее             1   \n",
       "5          0    -926.185831         27               высшее             0   \n",
       "6          0   -2879.202052         43               высшее             0   \n",
       "7          0    -152.779569         50              СРЕДНЕЕ             1   \n",
       "8          2   -6929.865299         35               ВЫСШЕЕ             0   \n",
       "9          0   -2188.756445         41              среднее             1   \n",
       "10         2   -4171.483647         36               высшее             0   \n",
       "11         0    -792.701887         40              среднее             1   \n",
       "12         0            NaN         65              среднее             1   \n",
       "13         0   -1846.641941         54  неоконченное высшее             2   \n",
       "14         0   -1844.956182         56               высшее             0   \n",
       "15         1    -972.364419         26              среднее             1   \n",
       "16         0   -1719.934226         35              среднее             1   \n",
       "17         0   -2369.999720         33               высшее             0   \n",
       "18         0  400281.136913         53              среднее             1   \n",
       "19         0  -10038.818549         48              СРЕДНЕЕ             1   \n",
       "\n",
       "       family_status  family_status_id gender income_type  debt  \\\n",
       "0    женат / замужем                 0      F   сотрудник     0   \n",
       "1    женат / замужем                 0      F   сотрудник     0   \n",
       "2    женат / замужем                 0      M   сотрудник     0   \n",
       "3    женат / замужем                 0      M   сотрудник     0   \n",
       "4   гражданский брак                 1      F   пенсионер     0   \n",
       "5   гражданский брак                 1      M   компаньон     0   \n",
       "6    женат / замужем                 0      F   компаньон     0   \n",
       "7    женат / замужем                 0      M   сотрудник     0   \n",
       "8   гражданский брак                 1      F   сотрудник     0   \n",
       "9    женат / замужем                 0      M   сотрудник     0   \n",
       "10   женат / замужем                 0      M   компаньон     0   \n",
       "11   женат / замужем                 0      F   сотрудник     0   \n",
       "12  гражданский брак                 1      M   пенсионер     0   \n",
       "13   женат / замужем                 0      F   сотрудник     0   \n",
       "14  гражданский брак                 1      F   компаньон     1   \n",
       "15   женат / замужем                 0      F   сотрудник     0   \n",
       "16   женат / замужем                 0      F   сотрудник     0   \n",
       "17  гражданский брак                 1      M   сотрудник     0   \n",
       "18    вдовец / вдова                 2      F   пенсионер     0   \n",
       "19         в разводе                 3      F   сотрудник     0   \n",
       "\n",
       "     total_income                                 purpose  \n",
       "0   253875.639453                           покупка жилья  \n",
       "1   112080.014102                 приобретение автомобиля  \n",
       "2   145885.952297                           покупка жилья  \n",
       "3   267628.550329              дополнительное образование  \n",
       "4   158616.077870                         сыграть свадьбу  \n",
       "5   255763.565419                           покупка жилья  \n",
       "6   240525.971920                       операции с жильем  \n",
       "7   135823.934197                             образование  \n",
       "8    95856.832424                   на проведение свадьбы  \n",
       "9   144425.938277                 покупка жилья для семьи  \n",
       "10  113943.491460                    покупка недвижимости  \n",
       "11   77069.234271       покупка коммерческой недвижимости  \n",
       "12            NaN                         сыграть свадьбу  \n",
       "13  130458.228857                 приобретение автомобиля  \n",
       "14  165127.911772              покупка жилой недвижимости  \n",
       "15  116820.904450  строительство собственной недвижимости  \n",
       "16  289202.704229                            недвижимость  \n",
       "17   90410.586745              строительство недвижимости  \n",
       "18   56823.777243      на покупку подержанного автомобиля  \n",
       "19  242831.107982            на покупку своего автомобиля  "
      ]
     },
     "execution_count": 2,
     "metadata": {},
     "output_type": "execute_result"
    }
   ],
   "source": [
    "data.head(20)"
   ]
  },
  {
   "cell_type": "markdown",
   "id": "756abf8e",
   "metadata": {
    "deletable": false,
    "editable": false,
    "id": "1c12e233"
   },
   "source": [
    "**Задание 3. Выведите основную информацию о датафрейме с помощью метода `info()`.**"
   ]
  },
  {
   "cell_type": "code",
   "execution_count": 3,
   "id": "7556f55e",
   "metadata": {
    "deletable": false,
    "id": "2b757bca",
    "outputId": "15376089-8dad-46c9-b520-c05248d43158"
   },
   "outputs": [
    {
     "name": "stdout",
     "output_type": "stream",
     "text": [
      "<class 'pandas.core.frame.DataFrame'>\n",
      "RangeIndex: 21525 entries, 0 to 21524\n",
      "Data columns (total 12 columns):\n",
      " #   Column            Non-Null Count  Dtype  \n",
      "---  ------            --------------  -----  \n",
      " 0   children          21525 non-null  int64  \n",
      " 1   days_employed     19351 non-null  float64\n",
      " 2   dob_years         21525 non-null  int64  \n",
      " 3   education         21525 non-null  object \n",
      " 4   education_id      21525 non-null  int64  \n",
      " 5   family_status     21525 non-null  object \n",
      " 6   family_status_id  21525 non-null  int64  \n",
      " 7   gender            21525 non-null  object \n",
      " 8   income_type       21525 non-null  object \n",
      " 9   debt              21525 non-null  int64  \n",
      " 10  total_income      19351 non-null  float64\n",
      " 11  purpose           21525 non-null  object \n",
      "dtypes: float64(2), int64(5), object(5)\n",
      "memory usage: 2.0+ MB\n"
     ]
    }
   ],
   "source": [
    "data.info()"
   ]
  },
  {
   "cell_type": "markdown",
   "id": "df086d8f",
   "metadata": {
    "deletable": false,
    "editable": false,
    "id": "333ec665"
   },
   "source": [
    "## Предобработка данных"
   ]
  },
  {
   "cell_type": "markdown",
   "id": "87a3ec8f",
   "metadata": {
    "deletable": false,
    "editable": false,
    "id": "02d92d53"
   },
   "source": [
    "### Удаление пропусков"
   ]
  },
  {
   "cell_type": "markdown",
   "id": "6b1c6560",
   "metadata": {
    "deletable": false,
    "editable": false,
    "id": "cd84967c"
   },
   "source": [
    "**Задание 4. Выведите количество пропущенных значений для каждого столбца. Используйте комбинацию двух методов.**"
   ]
  },
  {
   "cell_type": "code",
   "execution_count": 4,
   "id": "a909d724",
   "metadata": {
    "deletable": false,
    "id": "7f9b2309",
    "outputId": "81f4d817-781c-465c-ed15-91ce4446810d"
   },
   "outputs": [
    {
     "data": {
      "text/plain": [
       "children               0\n",
       "days_employed       2174\n",
       "dob_years              0\n",
       "education              0\n",
       "education_id           0\n",
       "family_status          0\n",
       "family_status_id       0\n",
       "gender                 0\n",
       "income_type            0\n",
       "debt                   0\n",
       "total_income        2174\n",
       "purpose                0\n",
       "dtype: int64"
      ]
     },
     "execution_count": 4,
     "metadata": {},
     "output_type": "execute_result"
    }
   ],
   "source": [
    "data.isna().sum()"
   ]
  },
  {
   "cell_type": "markdown",
   "id": "77b6a8e1",
   "metadata": {
    "deletable": false,
    "editable": false,
    "id": "db86e27b"
   },
   "source": [
    "**Задание 5. В двух столбцах есть пропущенные значения. Один из них — `days_employed`. Пропуски в этом столбце вы обработаете на следующем этапе. Другой столбец с пропущенными значениями — `total_income` — хранит данные о доходах. На сумму дохода сильнее всего влияет тип занятости, поэтому заполнить пропуски в этом столбце нужно медианным значением по каждому типу из столбца `income_type`. Например, у человека с типом занятости `сотрудник` пропуск в столбце `total_income` должен быть заполнен медианным доходом среди всех записей с тем же типом.**"
   ]
  },
  {
   "cell_type": "code",
   "execution_count": 5,
   "id": "84cac6f6",
   "metadata": {
    "deletable": false,
    "id": "42006a93"
   },
   "outputs": [],
   "source": [
    "for t in data['income_type'].unique():\n",
    "    data.loc[(data['income_type'] == t) & (data['total_income'].isna()), 'total_income'] = \\\n",
    "    data.loc[(data['income_type'] == t), 'total_income'].median()"
   ]
  },
  {
   "cell_type": "markdown",
   "id": "8b7963c8",
   "metadata": {
    "deletable": false,
    "editable": false,
    "id": "89da5ece"
   },
   "source": [
    "### Обработка аномальных значений"
   ]
  },
  {
   "cell_type": "markdown",
   "id": "bd18d8dc",
   "metadata": {
    "deletable": false,
    "editable": false,
    "id": "57964554"
   },
   "source": [
    "**Задание 6. В данных могут встречаться артефакты (аномалии) — значения, которые не отражают действительность и появились по какой-то ошибке. таким артефактом будет отрицательное количество дней трудового стажа в столбце `days_employed`. Для реальных данных это нормально. Обработайте значения в этом столбце: замените все отрицательные значения положительными с помощью метода `abs()`.**"
   ]
  },
  {
   "cell_type": "code",
   "execution_count": 6,
   "id": "26d552ae",
   "metadata": {
    "deletable": false,
    "id": "f6f055bf"
   },
   "outputs": [],
   "source": [
    "data['days_employed'] = data['days_employed'].abs()"
   ]
  },
  {
   "cell_type": "markdown",
   "id": "f638d82c",
   "metadata": {
    "deletable": false,
    "editable": false,
    "id": "6107dd2f"
   },
   "source": [
    "**Задание 7. Для каждого типа занятости выведите медианное значение трудового стажа `days_employed` в днях.**"
   ]
  },
  {
   "cell_type": "code",
   "execution_count": 7,
   "id": "a99082c5",
   "metadata": {
    "deletable": false,
    "id": "85a5faf6",
    "outputId": "801ef80e-522b-4668-f34e-565af7432bcf"
   },
   "outputs": [
    {
     "data": {
      "text/plain": [
       "income_type\n",
       "безработный        366413.652744\n",
       "в декрете            3296.759962\n",
       "госслужащий          2689.368353\n",
       "компаньон            1547.382223\n",
       "пенсионер          365213.306266\n",
       "предприниматель       520.848083\n",
       "сотрудник            1574.202821\n",
       "студент               578.751554\n",
       "Name: days_employed, dtype: float64"
      ]
     },
     "execution_count": 7,
     "metadata": {},
     "output_type": "execute_result"
    }
   ],
   "source": [
    "data.groupby('income_type')['days_employed'].agg('median')"
   ]
  },
  {
   "cell_type": "markdown",
   "id": "b3e632ac",
   "metadata": {
    "deletable": false,
    "editable": false,
    "id": "38d1a030"
   },
   "source": [
    "У двух типов (безработные и пенсионеры) получатся аномально большие значения. Исправить такие значения сложно, поэтому оставьте их как есть. Тем более этот столбец не понадобится вам для исследования."
   ]
  },
  {
   "cell_type": "markdown",
   "id": "b43f86a3",
   "metadata": {
    "deletable": false,
    "editable": false,
    "id": "d8a9f147"
   },
   "source": [
    "**Задание 8. Выведите перечень уникальных значений столбца `children`.**"
   ]
  },
  {
   "cell_type": "code",
   "execution_count": 8,
   "id": "e69aa098",
   "metadata": {
    "deletable": false,
    "id": "ef5056eb",
    "outputId": "6975b15c-7f95-4697-d16d-a0c79b657b03"
   },
   "outputs": [
    {
     "data": {
      "text/plain": [
       "array([ 1,  0,  3,  2, -1,  4, 20,  5])"
      ]
     },
     "execution_count": 8,
     "metadata": {},
     "output_type": "execute_result"
    }
   ],
   "source": [
    "data['children'].unique()"
   ]
  },
  {
   "cell_type": "markdown",
   "id": "a0c2f310",
   "metadata": {
    "deletable": false,
    "editable": false,
    "id": "40b9ebf2"
   },
   "source": [
    "**Задание 9. В столбце `children` есть два аномальных значения. Удалите строки, в которых встречаются такие аномальные значения из датафрейма `data`.**"
   ]
  },
  {
   "cell_type": "code",
   "execution_count": 9,
   "id": "2ef07d6d",
   "metadata": {
    "deletable": false,
    "id": "3ff9801d"
   },
   "outputs": [],
   "source": [
    "data = data[(data['children'] != -1) & (data['children'] != 20)]"
   ]
  },
  {
   "cell_type": "markdown",
   "id": "fe125e05",
   "metadata": {
    "deletable": false,
    "editable": false,
    "id": "bbc4d0ce"
   },
   "source": [
    "**Задание 10. Ещё раз выведите перечень уникальных значений столбца `children`, чтобы убедиться, что артефакты удалены.**"
   ]
  },
  {
   "cell_type": "code",
   "execution_count": 10,
   "id": "bf82af9a",
   "metadata": {
    "deletable": false,
    "id": "ad4fa8b7",
    "outputId": "b2097101-d49d-44d9-901b-32a65c9463d1"
   },
   "outputs": [
    {
     "data": {
      "text/plain": [
       "array([1, 0, 3, 2, 4, 5])"
      ]
     },
     "execution_count": 10,
     "metadata": {},
     "output_type": "execute_result"
    }
   ],
   "source": [
    "data['children'].unique()"
   ]
  },
  {
   "cell_type": "markdown",
   "id": "0c68651f",
   "metadata": {
    "deletable": false,
    "editable": false,
    "id": "75440b63"
   },
   "source": [
    "### Удаление пропусков (продолжение)"
   ]
  },
  {
   "cell_type": "markdown",
   "id": "cf183f8e",
   "metadata": {
    "deletable": false,
    "editable": false,
    "id": "f4ea573f"
   },
   "source": [
    "**Задание 11. Заполните пропуски в столбце `days_employed` медианными значениями по каждого типа занятости `income_type`.**"
   ]
  },
  {
   "cell_type": "code",
   "execution_count": 11,
   "id": "7aa1381b",
   "metadata": {
    "deletable": false,
    "id": "af6b1a7e"
   },
   "outputs": [],
   "source": [
    "for t in data['income_type'].unique():\n",
    "    data.loc[(data['income_type'] == t) & (data['days_employed'].isna()), 'days_employed'] = \\\n",
    "    data.loc[(data['income_type'] == t), 'days_employed'].median()"
   ]
  },
  {
   "cell_type": "markdown",
   "id": "e678b7b4",
   "metadata": {
    "deletable": false,
    "editable": false,
    "id": "2753f40d"
   },
   "source": [
    "**Задание 12. Убедитесь, что все пропуски заполнены. Проверьте себя и ещё раз выведите количество пропущенных значений для каждого столбца с помощью двух методов.**"
   ]
  },
  {
   "cell_type": "code",
   "execution_count": 12,
   "id": "cb8f5b8d",
   "metadata": {
    "deletable": false,
    "id": "55f78bc2",
    "outputId": "8da1e4e1-358e-4e87-98c9-f261bce0a7b2"
   },
   "outputs": [
    {
     "data": {
      "text/plain": [
       "children            0\n",
       "days_employed       0\n",
       "dob_years           0\n",
       "education           0\n",
       "education_id        0\n",
       "family_status       0\n",
       "family_status_id    0\n",
       "gender              0\n",
       "income_type         0\n",
       "debt                0\n",
       "total_income        0\n",
       "purpose             0\n",
       "dtype: int64"
      ]
     },
     "execution_count": 12,
     "metadata": {},
     "output_type": "execute_result"
    }
   ],
   "source": [
    "data.isna().sum()"
   ]
  },
  {
   "cell_type": "markdown",
   "id": "dddd4c7e",
   "metadata": {
    "deletable": false,
    "editable": false,
    "id": "ddc81e43"
   },
   "source": [
    "### Изменение типов данных"
   ]
  },
  {
   "cell_type": "markdown",
   "id": "5696aec7",
   "metadata": {
    "deletable": false,
    "editable": false,
    "id": "42d19d24"
   },
   "source": [
    "**Задание 13. Замените вещественный тип данных в столбце `total_income` на целочисленный с помощью метода `astype()`.**"
   ]
  },
  {
   "cell_type": "code",
   "execution_count": 13,
   "id": "09913c1f",
   "metadata": {
    "deletable": false,
    "id": "920b65ad"
   },
   "outputs": [],
   "source": [
    "data['total_income'] = data['total_income'].astype(int)"
   ]
  },
  {
   "cell_type": "markdown",
   "id": "f9e87860",
   "metadata": {
    "deletable": false,
    "editable": false,
    "id": "80c420ba"
   },
   "source": [
    "### Обработка дубликатов"
   ]
  },
  {
   "cell_type": "markdown",
   "id": "089441ac",
   "metadata": {
    "deletable": false,
    "editable": false
   },
   "source": [
    "**Задание 14. Обработайте неявные дубликаты в столбце `education`. В этом столбце есть одни и те же значения, но записанные по-разному: с использованием заглавных и строчных букв. Приведите их к нижнему регистру. Проверьте остальные столбцы.**"
   ]
  },
  {
   "cell_type": "code",
   "execution_count": 14,
   "id": "51187092",
   "metadata": {
    "deletable": false
   },
   "outputs": [],
   "source": [
    "data['education'] = data['education'].str.lower()"
   ]
  },
  {
   "cell_type": "markdown",
   "id": "cd1b60c2",
   "metadata": {
    "deletable": false,
    "editable": false,
    "id": "dc587695"
   },
   "source": [
    "**Задание 15. Выведите на экран количество строк-дубликатов в данных. Если такие строки присутствуют, удалите их.**"
   ]
  },
  {
   "cell_type": "code",
   "execution_count": 15,
   "id": "be72397a",
   "metadata": {
    "deletable": false,
    "id": "3ee445e4",
    "outputId": "9684deba-1934-42d1-99e1-cda61740f822"
   },
   "outputs": [
    {
     "data": {
      "text/plain": [
       "71"
      ]
     },
     "execution_count": 15,
     "metadata": {},
     "output_type": "execute_result"
    }
   ],
   "source": [
    "data.duplicated().sum()"
   ]
  },
  {
   "cell_type": "code",
   "execution_count": 16,
   "id": "f6453496",
   "metadata": {
    "deletable": false,
    "id": "8575fe05"
   },
   "outputs": [],
   "source": [
    "data = data.drop_duplicates()"
   ]
  },
  {
   "cell_type": "markdown",
   "id": "5df788dc",
   "metadata": {
    "deletable": false,
    "editable": false,
    "id": "9904cf55"
   },
   "source": [
    "### Категоризация данных"
   ]
  },
  {
   "cell_type": "markdown",
   "id": "71b16b10",
   "metadata": {
    "deletable": false,
    "editable": false,
    "id": "72fcc8a2"
   },
   "source": [
    "**Задание 16. На основании диапазонов, указанных ниже, создайте в датафрейме `data` столбец `total_income_category` с категориями:**\n",
    "\n",
    "- 0–30000 — `'E'`;\n",
    "- 30001–50000 — `'D'`;\n",
    "- 50001–200000 — `'C'`;\n",
    "- 200001–1000000 — `'B'`;\n",
    "- 1000001 и выше — `'A'`.\n",
    "\n",
    "\n",
    "**Например, кредитополучателю с доходом 25000 нужно назначить категорию `'E'`, а клиенту, получающему 235000, — `'B'`. Используйте собственную функцию с именем `categorize_income()` и метод `apply()`.**"
   ]
  },
  {
   "cell_type": "code",
   "execution_count": 17,
   "id": "5b017451",
   "metadata": {
    "deletable": false,
    "id": "e1771346"
   },
   "outputs": [],
   "source": [
    "def categorize_income(income):\n",
    "    try:\n",
    "        if 0 <= income <= 30000:\n",
    "            return 'E'\n",
    "        elif 30001 <= income <= 50000:\n",
    "            return 'D'\n",
    "        elif 50001 <= income <= 200000:\n",
    "            return 'C'\n",
    "        elif 200001 <= income <= 1000000:\n",
    "            return 'B'\n",
    "        elif income >= 1000001:\n",
    "            return 'A'\n",
    "    except:\n",
    "        pass"
   ]
  },
  {
   "cell_type": "code",
   "execution_count": 18,
   "id": "9238b601",
   "metadata": {
    "deletable": false,
    "id": "d5f3586d"
   },
   "outputs": [],
   "source": [
    "data['total_income_category'] = data['total_income'].apply(categorize_income)"
   ]
  },
  {
   "cell_type": "markdown",
   "id": "5c941202",
   "metadata": {
    "deletable": false,
    "editable": false,
    "id": "dde49b5c"
   },
   "source": [
    "**Задание 17. Выведите на экран перечень уникальных целей взятия кредита из столбца `purpose`.**"
   ]
  },
  {
   "cell_type": "code",
   "execution_count": 19,
   "id": "fda5a02d",
   "metadata": {
    "deletable": false,
    "id": "f67ce9b3",
    "outputId": "673c12d9-7d7e-4ae0-9812-c622c89dd244"
   },
   "outputs": [
    {
     "data": {
      "text/plain": [
       "array(['покупка жилья', 'приобретение автомобиля',\n",
       "       'дополнительное образование', 'сыграть свадьбу',\n",
       "       'операции с жильем', 'образование', 'на проведение свадьбы',\n",
       "       'покупка жилья для семьи', 'покупка недвижимости',\n",
       "       'покупка коммерческой недвижимости', 'покупка жилой недвижимости',\n",
       "       'строительство собственной недвижимости', 'недвижимость',\n",
       "       'строительство недвижимости', 'на покупку подержанного автомобиля',\n",
       "       'на покупку своего автомобиля',\n",
       "       'операции с коммерческой недвижимостью',\n",
       "       'строительство жилой недвижимости', 'жилье',\n",
       "       'операции со своей недвижимостью', 'автомобили',\n",
       "       'заняться образованием', 'сделка с подержанным автомобилем',\n",
       "       'получение образования', 'автомобиль', 'свадьба',\n",
       "       'получение дополнительного образования', 'покупка своего жилья',\n",
       "       'операции с недвижимостью', 'получение высшего образования',\n",
       "       'свой автомобиль', 'сделка с автомобилем',\n",
       "       'профильное образование', 'высшее образование',\n",
       "       'покупка жилья для сдачи', 'на покупку автомобиля', 'ремонт жилью',\n",
       "       'заняться высшим образованием'], dtype=object)"
      ]
     },
     "execution_count": 19,
     "metadata": {},
     "output_type": "execute_result"
    }
   ],
   "source": [
    "data['purpose'].unique()"
   ]
  },
  {
   "cell_type": "markdown",
   "id": "4cbb5545",
   "metadata": {
    "deletable": false,
    "editable": false,
    "id": "85d0aef0"
   },
   "source": [
    "**Задание 18. Создайте функцию, которая на основании данных из столбца `purpose` сформирует новый столбец `purpose_category`, в который войдут следующие категории:**\n",
    "\n",
    "- `'операции с автомобилем'`,\n",
    "- `'операции с недвижимостью'`,\n",
    "- `'проведение свадьбы'`,\n",
    "- `'получение образования'`.\n",
    "\n",
    "**Например, если в столбце `purpose` находится подстрока `'на покупку автомобиля'`, то в столбце `purpose_category` должна появиться строка `'операции с автомобилем'`.**\n",
    "\n",
    "**Используйте собственную функцию с именем `categorize_purpose()` и метод `apply()`. Изучите данные в столбце `purpose` и определите, какие подстроки помогут вам правильно определить категорию.**"
   ]
  },
  {
   "cell_type": "code",
   "execution_count": 20,
   "id": "64a35255",
   "metadata": {
    "deletable": false,
    "id": "e149fab4"
   },
   "outputs": [],
   "source": [
    "def categorize_purpose(row):\n",
    "    try:\n",
    "        if 'автом' in row:\n",
    "            return 'операции с автомобилем'\n",
    "        elif 'жил' in row or 'недвиж' in row:\n",
    "            return 'операции с недвижимостью'\n",
    "        elif 'свад' in row:\n",
    "            return 'проведение свадьбы'\n",
    "        elif 'образов' in row:\n",
    "            return 'получение образования'\n",
    "    except:\n",
    "        return 'нет категории'"
   ]
  },
  {
   "cell_type": "code",
   "execution_count": 21,
   "id": "f78ce654",
   "metadata": {
    "deletable": false,
    "id": "bf36e69b"
   },
   "outputs": [],
   "source": [
    "data['purpose_category'] = data['purpose'].apply(categorize_purpose)"
   ]
  },
  {
   "cell_type": "markdown",
   "id": "a225eb9a",
   "metadata": {
    "deletable": false,
    "editable": false,
    "id": "09b242bf"
   },
   "source": [
    "### Шаг 3. Исследуйте данные и ответьте на вопросы"
   ]
  },
  {
   "cell_type": "markdown",
   "id": "4c2cada0",
   "metadata": {},
   "source": [
    "Создаю функцию, в которой при подстановке столбца, по которому будет высчитываться количество кредитополучателей, количество должников и доля должников для ответа на следующие вопросы. Нужно будет ввести датафрейм, название столбца, по которому группируются данные, и название индекса."
   ]
  },
  {
   "cell_type": "code",
   "execution_count": 22,
   "id": "f79b6cae",
   "metadata": {},
   "outputs": [],
   "source": [
    "def group_func(data, group, ind, debt='debt'):\n",
    "    data_pivot = data.pivot_table(index=group, values=debt, aggfunc=['count', 'sum', 'mean']) \n",
    "    data_pivot.columns = ['Всего кредитополучателей', 'Всего должников', 'Доля должников']\n",
    "    data_pivot.index.names = [ind]\n",
    "    data_pivot = data_pivot.sort_values(by='Доля должников',ascending=False)\n",
    "    print(data_pivot)"
   ]
  },
  {
   "cell_type": "markdown",
   "id": "9654b684",
   "metadata": {
    "deletable": false,
    "editable": false,
    "id": "c5d66278"
   },
   "source": [
    "#### 3.1 Есть ли зависимость между количеством детей и возвратом кредита в срок?"
   ]
  },
  {
   "cell_type": "markdown",
   "id": "124922f1",
   "metadata": {
    "deletable": false,
    "id": "2cacfc4a"
   },
   "source": [
    "Чтобы узнать ответ, сделаем группировку данных по количеству детей (столбец children)."
   ]
  },
  {
   "cell_type": "code",
   "execution_count": 23,
   "id": "7ab26c65",
   "metadata": {
    "scrolled": true
   },
   "outputs": [
    {
     "name": "stdout",
     "output_type": "stream",
     "text": [
      "              Всего кредитополучателей  Всего должников  Доля должников\n",
      "Кол-во детей                                                           \n",
      "4                                   41                4        0.097561\n",
      "2                                 2052              194        0.094542\n",
      "1                                 4808              444        0.092346\n",
      "3                                  330               27        0.081818\n",
      "0                                14091             1063        0.075438\n",
      "5                                    9                0        0.000000\n"
     ]
    }
   ],
   "source": [
    "group_func(data, 'children', 'Кол-во детей')"
   ]
  },
  {
   "cell_type": "markdown",
   "id": "33b9c6de",
   "metadata": {
    "deletable": false,
    "id": "3a6b99ec"
   },
   "source": [
    "**Вывод:** \n",
    "\n",
    "Несмотря на то, что люди без детей берут больше кредитов, доля задолженностей у них меньше, чем у родителей 1-4 детей. С 4-мя детьми доля задолженностей больше всех. Тенденция роста долей у людей до 2х детей (вкл) показывает зависимость данных (чем больше делей, тем больше доля должников). Однако кредитов у  многодетных, особенно с 4 и 5, меньше, что может указать на то что мало данных. Возможно, люди с детьми (по данным) берут меньше кредитов по каким-то обстоятельствам, например, выплачивать тяжелее."
   ]
  },
  {
   "cell_type": "markdown",
   "id": "9a6e5747",
   "metadata": {
    "deletable": false,
    "editable": false,
    "id": "97be82ca"
   },
   "source": [
    "#### 3.2 Есть ли зависимость между семейным положением и возвратом кредита в срок?"
   ]
  },
  {
   "cell_type": "markdown",
   "id": "5071609f",
   "metadata": {
    "deletable": false,
    "id": "dc3f7ee8"
   },
   "source": [
    "Воспользуемся функцией для создания таблицы по семейному положению (family_status)."
   ]
  },
  {
   "cell_type": "code",
   "execution_count": 24,
   "id": "a4274b28",
   "metadata": {},
   "outputs": [
    {
     "name": "stdout",
     "output_type": "stream",
     "text": [
      "                       Всего кредитополучателей  Всего должников  \\\n",
      "Семейное положение                                                 \n",
      "Не женат / не замужем                      2796              273   \n",
      "гражданский брак                           4134              385   \n",
      "женат / замужем                           12261              927   \n",
      "в разводе                                  1189               84   \n",
      "вдовец / вдова                              951               63   \n",
      "\n",
      "                       Доля должников  \n",
      "Семейное положение                     \n",
      "Не женат / не замужем        0.097639  \n",
      "гражданский брак             0.093130  \n",
      "женат / замужем              0.075606  \n",
      "в разводе                    0.070648  \n",
      "вдовец / вдова               0.066246  \n"
     ]
    }
   ],
   "source": [
    "group_func(data, 'family_status', 'Семейное положение')"
   ]
  },
  {
   "cell_type": "markdown",
   "id": "798f2484",
   "metadata": {
    "deletable": false,
    "id": "1cef7837"
   },
   "source": [
    "**Вывод:** \n",
    "\n",
    "Большую часть кредитов берут люди, которые «женаты/замужем». Скорее всего, условия достаточно приятны для семейных пар (которые официально в браке), нежели для одиночек («не женат/не замужем» 2796, «в разводе» 1189, «вдовец/вдова» 951), а может, малая выборка по другим категориям семейного положения. О лучших условиях для женатых людей еще показывает значительная доля задолженностей по семейному положению (на первом месте «не женат / не замужем»). \n",
    "\n",
    "Незначительная зависимость между семейным положением и возвратом кредита в срок имеется. Люди, которые не были в официальном браке, примерно на 2% чаще не возвращают по кредиту (9,76% неженатые люди и 9,31% в гражданском браке, остальные менее 7,5%)."
   ]
  },
  {
   "cell_type": "markdown",
   "id": "f69c64d5",
   "metadata": {
    "deletable": false,
    "editable": false,
    "id": "1e8b2fca"
   },
   "source": [
    "#### 3.3 Есть ли зависимость между уровнем дохода и возвратом кредита в срок?"
   ]
  },
  {
   "cell_type": "markdown",
   "id": "8c91e3cb",
   "metadata": {
    "deletable": false,
    "id": "cd7e3720"
   },
   "source": [
    "Воспользуемся функцией для создания таблицы по уровню дохода (total_income_category):\n",
    "- 0–30000 — 'E';\n",
    "- 30001–50000 — 'D';\n",
    "- 50001–200000 — 'C';\n",
    "- 200001–1000000 — 'B';\n",
    "- 1000001 и выше — 'A'."
   ]
  },
  {
   "cell_type": "code",
   "execution_count": 25,
   "id": "14df2cd3",
   "metadata": {},
   "outputs": [
    {
     "name": "stdout",
     "output_type": "stream",
     "text": [
      "               Всего кредитополучателей  Всего должников  Доля должников\n",
      "Группа дохода                                                           \n",
      "E                                    22                2        0.090909\n",
      "C                                 15921             1353        0.084982\n",
      "A                                    25                2        0.080000\n",
      "B                                  5014              354        0.070602\n",
      "D                                   349               21        0.060172\n"
     ]
    }
   ],
   "source": [
    "group_func(data, 'total_income_category', 'Группа дохода')"
   ]
  },
  {
   "cell_type": "markdown",
   "id": "6aa445c2",
   "metadata": {
    "deletable": false,
    "id": "e8593def"
   },
   "source": [
    "**Вывод:** \n",
    "\n",
    "У людей с самым высоким и самым низким уровнем дохода меньше всего кредитов, что достаточно понятно (люди с низким доходом не могут себе позволить кредит, а людям с высоким он, скорее всего, не очень нужен). Люди категории «С» и «B», — это топ-2 по кол-ву взятых кредитов, данных по остальным категориям мало. \n",
    "\n",
    "Категория «С» самая многочисленная, но у нее выше доля должников, чем у категории «B» (8,5% и 7,06% соответственно). Это может быть связано с тем, что у большего числа населения (зарплаты 50001–200000 — это большая масса работающего населения) менее стабильное финансовое положение. Тогда как категория «B» показывает меньший риск по задолженности по кредиту, возможно, из-за большей финансовой стабильности."
   ]
  },
  {
   "cell_type": "markdown",
   "id": "b217810e",
   "metadata": {
    "deletable": false,
    "editable": false,
    "id": "99ecbd1f"
   },
   "source": [
    "#### 3.4 Как разные цели кредита влияют на его возврат в срок?"
   ]
  },
  {
   "cell_type": "markdown",
   "id": "3ef7b0ba",
   "metadata": {
    "deletable": false,
    "id": "2b687290"
   },
   "source": [
    "Воспользуемся функцией для создания таблицы по целям кредита (purpose_category)."
   ]
  },
  {
   "cell_type": "code",
   "execution_count": 26,
   "id": "3c1bfd42",
   "metadata": {},
   "outputs": [
    {
     "name": "stdout",
     "output_type": "stream",
     "text": [
      "                          Всего кредитополучателей  Всего должников  \\\n",
      "Цель кредита                                                          \n",
      "операции с автомобилем                        4279              400   \n",
      "получение образования                         3988              369   \n",
      "проведение свадьбы                            2313              183   \n",
      "операции с недвижимостью                     10751              780   \n",
      "\n",
      "                          Доля должников  \n",
      "Цель кредита                              \n",
      "операции с автомобилем          0.093480  \n",
      "получение образования           0.092528  \n",
      "проведение свадьбы              0.079118  \n",
      "операции с недвижимостью        0.072551  \n"
     ]
    }
   ],
   "source": [
    "group_func(data, 'purpose_category', 'Цель кредита')"
   ]
  },
  {
   "cell_type": "markdown",
   "id": "1febcbf0",
   "metadata": {
    "deletable": false,
    "id": "b4bb2ce6"
   },
   "source": [
    "**Вывод:** \n",
    "\n",
    "Операции с недвижимостью в топе по кол-ву взятых кредитов, а также у них самая малая доля задолженностей - это логично, недвижимость дорогая, выплачивать ипотеку долго и части ежемесячного платежа меньше, чем у других типов кредита. \n",
    "\n",
    "Операции с автомобилем и получение образования в одинаковом среднем сегменте по кол-ву взятых кредитов и по кол-ву задолженностей. Также их доля задолженностей выше, поэтому можно смело предположить, что гипотеза «Люди, берущие кредит для операций с автомобилем и получения образования, чаще сталкиваются с задолженностями по сравнению с людьми, берущими кредит на другие цели (свадьба или недвижимость)» верна."
   ]
  },
  {
   "cell_type": "markdown",
   "id": "1325302f",
   "metadata": {
    "deletable": false,
    "editable": false,
    "id": "09c3ac4c"
   },
   "source": [
    "#### 3.5 Приведите возможные причины появления пропусков в исходных данных."
   ]
  },
  {
   "cell_type": "markdown",
   "id": "6a6d2d66",
   "metadata": {
    "deletable": false,
    "id": "9da2ceda"
   },
   "source": [
    "*Ответ:* С учетом того, что пропуски были в общем трудовом стаже и ежемесячном доходе, смею предположить, что этих данных может не быть у клиента, который не работает или работает неофициально (например, пенсионер), либо эти данные просто не указали сами клиенты по своим причинам. Если эта информация заполняется из карты клиентов, а не клиентами, то, вероятно, клиенты с отсутствующими данными не являются зарплатными клиентами или произошел сбой сбора данных. "
   ]
  },
  {
   "cell_type": "markdown",
   "id": "7435e25c",
   "metadata": {
    "deletable": false,
    "editable": false,
    "id": "7b0487d6"
   },
   "source": [
    "#### 3.6 Объясните, почему заполнить пропуски медианным значением — лучшее решение для количественных переменных."
   ]
  },
  {
   "cell_type": "markdown",
   "id": "624ecbd9",
   "metadata": {
    "deletable": false,
    "id": "7ecf2b8e"
   },
   "source": [
    "*Ответ:* Потому что значение средних может быть искажено выбросами данных (те которые очень большие или наоборот очень маленькие по сравнению с основной массой), а медиана это ровно половина элементов."
   ]
  },
  {
   "cell_type": "markdown",
   "id": "18128297",
   "metadata": {
    "deletable": false,
    "editable": false,
    "id": "6db5255a"
   },
   "source": [
    "### Шаг 4: общий вывод."
   ]
  },
  {
   "cell_type": "markdown",
   "id": "eb9a6021",
   "metadata": {
    "deletable": false,
    "id": "bad65432"
   },
   "source": [
    "**Предобработка**\n",
    "\n",
    "Ознакомившись с данными было выявлено некорректное заполнение данных в столбце days_employed (общий трудовой стаж в днях), а именно отрицательные значения. Так как стаж не может быть отрицательным, то поправила данные с помощью abs(). Далее нашла 2174 пустых значений в столбцах days_employed (общий трудовой стаж в днях) и total_income (ежемесячный доход). Так как данные количественные и могут содержать выбросы, то заполнила эти пробелы медианным значением по указанному типу занятости. Далее были найдены и убраны некорректные строки по анамальному значению кол-ва детей, а именно отрицательные и 20. \n",
    "\n",
    "**Разбивка данных на категории для удобства восприятия**\n",
    "\n",
    "\n",
    "1. Данные в столбце ежемесячного дохода были сгруппированы по категориям дохода в новый столбец total_income_category, для этого я перевела данные столбца в целочисленный тип, чтобы можно было совершать действия как с числами.\n",
    "\n",
    "- 0–30000 — 'E';\n",
    "- 30001–50000 — 'D';\n",
    "- 50001–200000 — 'C';\n",
    "- 200001–1000000 — 'B';\n",
    "- 1000001 и выше — 'A'.\n",
    "\n",
    "2. Также был разбит на категории столбец purpose (цель получения кредита) на 4 группы:\n",
    "\n",
    "\n",
    "- операции с автомобилем\n",
    "- операции с недвижимостью\n",
    "- проведение свадьбы\n",
    "- получение образования\n",
    "\n",
    "**Выявлено**\n",
    "\n",
    "1. Зависимость задолженности от количества детей у клиента: чем больше детей, тем выше доля должников (по данным с 0 до 2 включительно детей).\n",
    "2. Люди, которые были в официальном браке, надежнее, их доля задолженности составляет 7,56%. У людей не женатых и в гражданском браке доля выше — 9,76% и 9,31%.\n",
    "3. Клиенты категорий дохода 'C' и 'B берут большую часть кредитов, однако категория 'B' более надежная. Доли по группам 'C': 8,5%, 'B': 7,06%.\n",
    "4. Люди, берущие кредит для операций с автомобилем и получения образования, чаще сталкиваются с задолженностями по сравнению с людьми, берущими кредит на другие цели (свадьба или недвижимость).\n",
    "\n",
    "**Вывод**\n",
    "\n",
    "Самый надежный кандидат на кредит по данным — человек состоявший в официальном браке, из категории дохода 'B' и желательно без детей или с 1 ребенком.\n",
    "\n",
    "Самый рискованный заемщик по данным — этот человек не женат/ не замужем или в гражданском браке с детьми от 2-х и более, из категории дохода 'C' и ниже.\n",
    "\n",
    "Также кредиты для проведения свадьбы или операций с недвижимостью стабильнее, так как доля задолженности в них ниже. "
   ]
  }
 ],
 "metadata": {
  "ExecuteTimeLog": [
   {
    "duration": 477,
    "start_time": "2025-03-08T13:33:43.470Z"
   },
   {
    "duration": 24,
    "start_time": "2025-03-08T13:33:44.815Z"
   },
   {
    "duration": 17,
    "start_time": "2025-03-08T13:33:46.866Z"
   },
   {
    "duration": 12,
    "start_time": "2025-03-08T13:33:48.571Z"
   },
   {
    "duration": 36,
    "start_time": "2025-03-08T13:33:50.131Z"
   },
   {
    "duration": 51,
    "start_time": "2025-03-08T13:35:41.556Z"
   },
   {
    "duration": 4,
    "start_time": "2025-03-08T13:35:43.016Z"
   },
   {
    "duration": 12,
    "start_time": "2025-03-08T13:35:45.919Z"
   },
   {
    "duration": 472,
    "start_time": "2025-03-08T13:35:59.407Z"
   },
   {
    "duration": 25,
    "start_time": "2025-03-08T13:36:00.934Z"
   },
   {
    "duration": 16,
    "start_time": "2025-03-08T13:36:03.229Z"
   },
   {
    "duration": 12,
    "start_time": "2025-03-08T13:36:05.213Z"
   },
   {
    "duration": 38,
    "start_time": "2025-03-08T13:36:07.118Z"
   },
   {
    "duration": 4,
    "start_time": "2025-03-08T13:36:08.921Z"
   },
   {
    "duration": 8,
    "start_time": "2025-03-08T13:36:10.775Z"
   },
   {
    "duration": 4,
    "start_time": "2025-03-08T13:36:12.531Z"
   },
   {
    "duration": 11,
    "start_time": "2025-03-08T13:36:15.156Z"
   },
   {
    "duration": 4,
    "start_time": "2025-03-08T13:36:20.832Z"
   },
   {
    "duration": 36,
    "start_time": "2025-03-08T13:36:22.997Z"
   },
   {
    "duration": 17,
    "start_time": "2025-03-08T13:36:25.146Z"
   },
   {
    "duration": 4,
    "start_time": "2025-03-08T13:36:27.704Z"
   },
   {
    "duration": 12,
    "start_time": "2025-03-08T13:36:29.148Z"
   },
   {
    "duration": 20,
    "start_time": "2025-03-08T13:36:30.724Z"
   },
   {
    "duration": 18,
    "start_time": "2025-03-08T13:36:31.740Z"
   },
   {
    "duration": 3,
    "start_time": "2025-03-08T13:36:34.168Z"
   },
   {
    "duration": 12,
    "start_time": "2025-03-08T13:36:38.628Z"
   },
   {
    "duration": 6,
    "start_time": "2025-03-08T13:36:43.929Z"
   },
   {
    "duration": 4,
    "start_time": "2025-03-08T13:36:57.615Z"
   },
   {
    "duration": 9,
    "start_time": "2025-03-08T13:37:07.689Z"
   },
   {
    "duration": 66,
    "start_time": "2025-03-08T13:43:16.219Z"
   },
   {
    "duration": 7,
    "start_time": "2025-03-08T13:43:38.878Z"
   },
   {
    "duration": 8,
    "start_time": "2025-03-08T13:46:14.063Z"
   },
   {
    "duration": 1052,
    "start_time": "2025-03-08T13:48:37.707Z"
   },
   {
    "duration": 17,
    "start_time": "2025-03-08T13:49:03.244Z"
   },
   {
    "duration": 15,
    "start_time": "2025-03-08T13:49:56.119Z"
   },
   {
    "duration": 17,
    "start_time": "2025-03-08T13:51:39.010Z"
   },
   {
    "duration": 16,
    "start_time": "2025-03-08T13:54:29.800Z"
   },
   {
    "duration": 14,
    "start_time": "2025-03-08T13:54:53.706Z"
   },
   {
    "duration": 5,
    "start_time": "2025-03-08T13:56:47.105Z"
   },
   {
    "duration": 7,
    "start_time": "2025-03-08T13:56:50.879Z"
   },
   {
    "duration": 3,
    "start_time": "2025-03-08T13:57:02.925Z"
   },
   {
    "duration": 9,
    "start_time": "2025-03-08T13:57:31.741Z"
   },
   {
    "duration": 17,
    "start_time": "2025-03-08T13:58:11.496Z"
   },
   {
    "duration": 10,
    "start_time": "2025-03-08T14:01:50.485Z"
   },
   {
    "duration": 7,
    "start_time": "2025-03-08T14:02:05.403Z"
   },
   {
    "duration": 7,
    "start_time": "2025-03-08T14:03:35.371Z"
   },
   {
    "duration": 7,
    "start_time": "2025-03-08T14:03:36.754Z"
   },
   {
    "duration": 7,
    "start_time": "2025-03-08T14:05:21.848Z"
   },
   {
    "duration": 7,
    "start_time": "2025-03-08T14:06:14.095Z"
   },
   {
    "duration": 6,
    "start_time": "2025-03-08T14:06:46.633Z"
   },
   {
    "duration": 6,
    "start_time": "2025-03-08T14:06:49.815Z"
   },
   {
    "duration": 7,
    "start_time": "2025-03-08T14:06:50.587Z"
   },
   {
    "duration": 6,
    "start_time": "2025-03-08T14:06:51.211Z"
   },
   {
    "duration": 7,
    "start_time": "2025-03-08T14:20:20.630Z"
   },
   {
    "duration": 9,
    "start_time": "2025-03-08T14:20:39.334Z"
   },
   {
    "duration": 8,
    "start_time": "2025-03-08T14:21:44.398Z"
   },
   {
    "duration": 7,
    "start_time": "2025-03-08T14:21:45.383Z"
   },
   {
    "duration": 7,
    "start_time": "2025-03-08T14:21:46.907Z"
   },
   {
    "duration": 12,
    "start_time": "2025-03-08T14:21:57.277Z"
   },
   {
    "duration": 10,
    "start_time": "2025-03-08T14:21:58.589Z"
   },
   {
    "duration": 10,
    "start_time": "2025-03-08T14:23:01.506Z"
   },
   {
    "duration": 7,
    "start_time": "2025-03-08T14:23:13.450Z"
   },
   {
    "duration": 13,
    "start_time": "2025-03-08T14:23:37.180Z"
   },
   {
    "duration": 18,
    "start_time": "2025-03-08T14:24:04.686Z"
   },
   {
    "duration": 25,
    "start_time": "2025-03-08T14:24:50.136Z"
   },
   {
    "duration": 1317,
    "start_time": "2025-03-08T14:25:00.095Z"
   },
   {
    "duration": 31,
    "start_time": "2025-03-08T14:25:24.114Z"
   },
   {
    "duration": 127,
    "start_time": "2025-03-08T14:27:46.897Z"
   },
   {
    "duration": 9,
    "start_time": "2025-03-08T14:28:11.031Z"
   },
   {
    "duration": 118,
    "start_time": "2025-03-08T14:28:19.614Z"
   },
   {
    "duration": 19,
    "start_time": "2025-03-08T14:50:25.871Z"
   },
   {
    "duration": 19,
    "start_time": "2025-03-08T14:50:33.435Z"
   },
   {
    "duration": 16,
    "start_time": "2025-03-08T14:50:43.034Z"
   },
   {
    "duration": 9,
    "start_time": "2025-03-08T14:50:59.017Z"
   },
   {
    "duration": 13,
    "start_time": "2025-03-08T15:20:02.495Z"
   },
   {
    "duration": 12,
    "start_time": "2025-03-08T15:20:06.400Z"
   },
   {
    "duration": 11,
    "start_time": "2025-03-08T15:20:12.820Z"
   },
   {
    "duration": 14,
    "start_time": "2025-03-08T15:20:56.554Z"
   },
   {
    "duration": 12,
    "start_time": "2025-03-08T15:21:18.692Z"
   },
   {
    "duration": 8,
    "start_time": "2025-03-08T15:21:24.303Z"
   },
   {
    "duration": 11,
    "start_time": "2025-03-08T15:22:12.626Z"
   },
   {
    "duration": 13,
    "start_time": "2025-03-08T15:22:29.202Z"
   },
   {
    "duration": 8,
    "start_time": "2025-03-08T15:22:31.976Z"
   },
   {
    "duration": 8,
    "start_time": "2025-03-08T15:22:40.659Z"
   },
   {
    "duration": 8,
    "start_time": "2025-03-08T15:22:42.791Z"
   },
   {
    "duration": 9,
    "start_time": "2025-03-08T15:22:45.647Z"
   },
   {
    "duration": 7,
    "start_time": "2025-03-08T15:22:50.340Z"
   },
   {
    "duration": 8,
    "start_time": "2025-03-08T15:23:21.697Z"
   },
   {
    "duration": 8,
    "start_time": "2025-03-08T15:23:27.094Z"
   },
   {
    "duration": 10,
    "start_time": "2025-03-08T15:40:51.141Z"
   },
   {
    "duration": 9,
    "start_time": "2025-03-08T15:42:22.982Z"
   },
   {
    "duration": 9,
    "start_time": "2025-03-08T15:43:03.854Z"
   },
   {
    "duration": 8,
    "start_time": "2025-03-08T15:43:17.079Z"
   },
   {
    "duration": 8,
    "start_time": "2025-03-08T15:58:53.374Z"
   },
   {
    "duration": 8,
    "start_time": "2025-03-08T15:59:15.925Z"
   },
   {
    "duration": 8,
    "start_time": "2025-03-08T15:59:41.918Z"
   },
   {
    "duration": 9,
    "start_time": "2025-03-08T16:00:12.525Z"
   },
   {
    "duration": 25,
    "start_time": "2025-03-08T16:17:47.699Z"
   },
   {
    "duration": 7,
    "start_time": "2025-03-08T16:18:20.819Z"
   },
   {
    "duration": 6,
    "start_time": "2025-03-08T16:18:30.579Z"
   },
   {
    "duration": 6,
    "start_time": "2025-03-08T16:18:50.939Z"
   },
   {
    "duration": 20,
    "start_time": "2025-03-08T16:22:10.438Z"
   },
   {
    "duration": 65,
    "start_time": "2025-03-08T16:22:35.255Z"
   },
   {
    "duration": 15,
    "start_time": "2025-03-08T16:22:35.961Z"
   },
   {
    "duration": 16,
    "start_time": "2025-03-08T16:22:38.027Z"
   },
   {
    "duration": 11,
    "start_time": "2025-03-08T16:22:39.881Z"
   },
   {
    "duration": 27,
    "start_time": "2025-03-08T16:22:41.012Z"
   },
   {
    "duration": 460,
    "start_time": "2025-03-08T16:23:17.980Z"
   },
   {
    "duration": 23,
    "start_time": "2025-03-08T16:23:18.442Z"
   },
   {
    "duration": 16,
    "start_time": "2025-03-08T16:23:18.466Z"
   },
   {
    "duration": 10,
    "start_time": "2025-03-08T16:23:18.485Z"
   },
   {
    "duration": 139,
    "start_time": "2025-03-08T16:23:18.496Z"
   },
   {
    "duration": 3,
    "start_time": "2025-03-08T16:23:18.637Z"
   },
   {
    "duration": 11,
    "start_time": "2025-03-08T16:23:18.642Z"
   },
   {
    "duration": 4,
    "start_time": "2025-03-08T16:23:18.654Z"
   },
   {
    "duration": 7,
    "start_time": "2025-03-08T16:23:18.660Z"
   },
   {
    "duration": 5,
    "start_time": "2025-03-08T16:23:18.670Z"
   },
   {
    "duration": 37,
    "start_time": "2025-03-08T16:23:18.676Z"
   },
   {
    "duration": 12,
    "start_time": "2025-03-08T16:23:18.714Z"
   },
   {
    "duration": 33,
    "start_time": "2025-03-08T16:23:18.728Z"
   },
   {
    "duration": 12,
    "start_time": "2025-03-08T16:23:18.763Z"
   },
   {
    "duration": 19,
    "start_time": "2025-03-08T16:23:18.777Z"
   },
   {
    "duration": 16,
    "start_time": "2025-03-08T16:23:18.798Z"
   },
   {
    "duration": 3,
    "start_time": "2025-03-08T16:23:18.816Z"
   },
   {
    "duration": 41,
    "start_time": "2025-03-08T16:23:18.821Z"
   },
   {
    "duration": 10,
    "start_time": "2025-03-08T16:23:18.864Z"
   },
   {
    "duration": 4,
    "start_time": "2025-03-08T16:23:18.876Z"
   },
   {
    "duration": 9,
    "start_time": "2025-03-08T16:23:18.882Z"
   },
   {
    "duration": 6,
    "start_time": "2025-03-08T16:23:18.892Z"
   },
   {
    "duration": 6,
    "start_time": "2025-03-08T16:23:18.900Z"
   },
   {
    "duration": 15,
    "start_time": "2025-03-08T16:23:18.907Z"
   },
   {
    "duration": 36,
    "start_time": "2025-03-08T16:23:18.923Z"
   },
   {
    "duration": 8,
    "start_time": "2025-03-08T16:23:18.961Z"
   },
   {
    "duration": 9,
    "start_time": "2025-03-08T16:23:18.971Z"
   },
   {
    "duration": 8,
    "start_time": "2025-03-08T16:23:18.982Z"
   },
   {
    "duration": 9,
    "start_time": "2025-03-08T16:23:18.992Z"
   },
   {
    "duration": 9,
    "start_time": "2025-03-08T16:23:19.003Z"
   },
   {
    "duration": 52,
    "start_time": "2025-03-08T16:23:19.013Z"
   },
   {
    "duration": 86,
    "start_time": "2025-03-08T16:23:19.067Z"
   },
   {
    "duration": 8,
    "start_time": "2025-03-08T16:23:19.155Z"
   },
   {
    "duration": 98,
    "start_time": "2025-03-08T21:45:44.780Z"
   },
   {
    "duration": 442,
    "start_time": "2025-03-08T21:46:00.795Z"
   },
   {
    "duration": 19,
    "start_time": "2025-03-08T21:46:01.239Z"
   },
   {
    "duration": 28,
    "start_time": "2025-03-08T21:46:01.259Z"
   },
   {
    "duration": 9,
    "start_time": "2025-03-08T21:46:01.288Z"
   },
   {
    "duration": 38,
    "start_time": "2025-03-08T21:46:01.298Z"
   },
   {
    "duration": 3,
    "start_time": "2025-03-08T21:46:01.337Z"
   },
   {
    "duration": 39,
    "start_time": "2025-03-08T21:46:01.341Z"
   },
   {
    "duration": 35,
    "start_time": "2025-03-08T21:46:01.382Z"
   },
   {
    "duration": 9,
    "start_time": "2025-03-08T21:46:01.418Z"
   },
   {
    "duration": 4,
    "start_time": "2025-03-08T21:46:01.430Z"
   },
   {
    "duration": 69,
    "start_time": "2025-03-08T21:46:01.435Z"
   },
   {
    "duration": 10,
    "start_time": "2025-03-08T21:46:01.505Z"
   },
   {
    "duration": 3,
    "start_time": "2025-03-08T21:46:01.516Z"
   },
   {
    "duration": 24,
    "start_time": "2025-03-08T21:46:01.520Z"
   },
   {
    "duration": 18,
    "start_time": "2025-03-08T21:46:01.545Z"
   },
   {
    "duration": 23,
    "start_time": "2025-03-08T21:46:01.564Z"
   },
   {
    "duration": 3,
    "start_time": "2025-03-08T21:46:01.588Z"
   },
   {
    "duration": 22,
    "start_time": "2025-03-08T21:46:01.593Z"
   },
   {
    "duration": 10,
    "start_time": "2025-03-08T21:46:01.616Z"
   },
   {
    "duration": 4,
    "start_time": "2025-03-08T21:46:01.628Z"
   },
   {
    "duration": 42,
    "start_time": "2025-03-08T21:46:01.633Z"
   },
   {
    "duration": 10,
    "start_time": "2025-03-08T21:46:01.676Z"
   },
   {
    "duration": 48,
    "start_time": "2025-03-08T21:46:01.687Z"
   },
   {
    "duration": 33,
    "start_time": "2025-03-08T21:46:01.736Z"
   },
   {
    "duration": 44,
    "start_time": "2025-03-08T21:46:01.771Z"
   },
   {
    "duration": 9,
    "start_time": "2025-03-08T21:46:01.817Z"
   },
   {
    "duration": 8,
    "start_time": "2025-03-08T21:46:01.828Z"
   },
   {
    "duration": 33,
    "start_time": "2025-03-08T21:46:01.839Z"
   },
   {
    "duration": 9,
    "start_time": "2025-03-08T21:46:01.873Z"
   },
   {
    "duration": 14,
    "start_time": "2025-03-08T21:46:01.884Z"
   },
   {
    "duration": 36,
    "start_time": "2025-03-08T21:46:01.899Z"
   },
   {
    "duration": 47,
    "start_time": "2025-03-08T21:46:01.938Z"
   },
   {
    "duration": 27,
    "start_time": "2025-03-08T21:46:01.986Z"
   },
   {
    "duration": 50,
    "start_time": "2025-03-09T10:13:51.420Z"
   },
   {
    "duration": 11,
    "start_time": "2025-03-09T10:14:07.455Z"
   },
   {
    "duration": 428,
    "start_time": "2025-03-09T10:14:27.867Z"
   },
   {
    "duration": 20,
    "start_time": "2025-03-09T10:14:28.297Z"
   },
   {
    "duration": 14,
    "start_time": "2025-03-09T10:14:28.318Z"
   },
   {
    "duration": 9,
    "start_time": "2025-03-09T10:14:28.334Z"
   },
   {
    "duration": 63,
    "start_time": "2025-03-09T10:14:28.344Z"
   },
   {
    "duration": 3,
    "start_time": "2025-03-09T10:14:28.408Z"
   },
   {
    "duration": 11,
    "start_time": "2025-03-09T10:14:28.413Z"
   },
   {
    "duration": 3,
    "start_time": "2025-03-09T10:14:28.426Z"
   },
   {
    "duration": 7,
    "start_time": "2025-03-09T10:14:28.431Z"
   },
   {
    "duration": 4,
    "start_time": "2025-03-09T10:14:28.440Z"
   },
   {
    "duration": 33,
    "start_time": "2025-03-09T10:14:28.445Z"
   },
   {
    "duration": 30,
    "start_time": "2025-03-09T10:14:28.480Z"
   },
   {
    "duration": 3,
    "start_time": "2025-03-09T10:14:28.511Z"
   },
   {
    "duration": 12,
    "start_time": "2025-03-09T10:14:28.516Z"
   },
   {
    "duration": 19,
    "start_time": "2025-03-09T10:14:28.529Z"
   },
   {
    "duration": 15,
    "start_time": "2025-03-09T10:14:28.550Z"
   },
   {
    "duration": 4,
    "start_time": "2025-03-09T10:14:28.566Z"
   },
   {
    "duration": 40,
    "start_time": "2025-03-09T10:14:28.571Z"
   },
   {
    "duration": 5,
    "start_time": "2025-03-09T10:14:28.612Z"
   },
   {
    "duration": 3,
    "start_time": "2025-03-09T10:14:28.619Z"
   },
   {
    "duration": 15,
    "start_time": "2025-03-09T10:14:28.623Z"
   },
   {
    "duration": 85,
    "start_time": "2025-03-09T10:14:28.640Z"
   },
   {
    "duration": 0,
    "start_time": "2025-03-09T10:14:28.726Z"
   },
   {
    "duration": 0,
    "start_time": "2025-03-09T10:14:28.728Z"
   },
   {
    "duration": 0,
    "start_time": "2025-03-09T10:14:28.729Z"
   },
   {
    "duration": 0,
    "start_time": "2025-03-09T10:14:28.730Z"
   },
   {
    "duration": 0,
    "start_time": "2025-03-09T10:14:28.731Z"
   },
   {
    "duration": 0,
    "start_time": "2025-03-09T10:14:28.732Z"
   },
   {
    "duration": 0,
    "start_time": "2025-03-09T10:14:28.733Z"
   },
   {
    "duration": 0,
    "start_time": "2025-03-09T10:14:28.734Z"
   },
   {
    "duration": 0,
    "start_time": "2025-03-09T10:14:28.735Z"
   },
   {
    "duration": 0,
    "start_time": "2025-03-09T10:14:28.736Z"
   },
   {
    "duration": 0,
    "start_time": "2025-03-09T10:14:28.736Z"
   },
   {
    "duration": 0,
    "start_time": "2025-03-09T10:14:28.738Z"
   },
   {
    "duration": 15,
    "start_time": "2025-03-09T10:14:48.523Z"
   },
   {
    "duration": 16,
    "start_time": "2025-03-09T10:15:14.970Z"
   },
   {
    "duration": 30,
    "start_time": "2025-03-09T10:15:29.265Z"
   },
   {
    "duration": 11,
    "start_time": "2025-03-09T10:29:40.198Z"
   },
   {
    "duration": 10,
    "start_time": "2025-03-09T10:29:48.236Z"
   },
   {
    "duration": 8,
    "start_time": "2025-03-09T10:30:03.837Z"
   },
   {
    "duration": 9,
    "start_time": "2025-03-09T10:30:36.347Z"
   },
   {
    "duration": 1129,
    "start_time": "2025-03-09T10:36:04.161Z"
   },
   {
    "duration": 1172,
    "start_time": "2025-03-09T10:36:29.077Z"
   },
   {
    "duration": 28,
    "start_time": "2025-03-09T10:36:59.229Z"
   },
   {
    "duration": 25,
    "start_time": "2025-03-09T10:37:49.157Z"
   },
   {
    "duration": 21,
    "start_time": "2025-03-09T10:39:30.632Z"
   },
   {
    "duration": 30,
    "start_time": "2025-03-09T10:40:52.001Z"
   },
   {
    "duration": 23,
    "start_time": "2025-03-09T10:41:19.702Z"
   },
   {
    "duration": 26,
    "start_time": "2025-03-09T10:41:39.793Z"
   },
   {
    "duration": 22,
    "start_time": "2025-03-09T10:43:44.964Z"
   },
   {
    "duration": 23,
    "start_time": "2025-03-09T10:43:51.312Z"
   },
   {
    "duration": 22,
    "start_time": "2025-03-09T10:44:40.349Z"
   },
   {
    "duration": 23,
    "start_time": "2025-03-09T10:44:46.435Z"
   },
   {
    "duration": 23,
    "start_time": "2025-03-09T10:45:21.571Z"
   },
   {
    "duration": 21,
    "start_time": "2025-03-09T10:45:31.249Z"
   },
   {
    "duration": 22,
    "start_time": "2025-03-09T10:45:54.574Z"
   },
   {
    "duration": 21,
    "start_time": "2025-03-09T10:46:59.532Z"
   },
   {
    "duration": 438,
    "start_time": "2025-03-09T10:47:12.154Z"
   },
   {
    "duration": 21,
    "start_time": "2025-03-09T10:47:12.594Z"
   },
   {
    "duration": 14,
    "start_time": "2025-03-09T10:47:12.616Z"
   },
   {
    "duration": 16,
    "start_time": "2025-03-09T10:47:12.632Z"
   },
   {
    "duration": 48,
    "start_time": "2025-03-09T10:47:12.649Z"
   },
   {
    "duration": 3,
    "start_time": "2025-03-09T10:47:12.698Z"
   },
   {
    "duration": 7,
    "start_time": "2025-03-09T10:47:12.707Z"
   },
   {
    "duration": 4,
    "start_time": "2025-03-09T10:47:12.715Z"
   },
   {
    "duration": 8,
    "start_time": "2025-03-09T10:47:12.720Z"
   },
   {
    "duration": 4,
    "start_time": "2025-03-09T10:47:12.730Z"
   },
   {
    "duration": 53,
    "start_time": "2025-03-09T10:47:12.735Z"
   },
   {
    "duration": 21,
    "start_time": "2025-03-09T10:47:12.789Z"
   },
   {
    "duration": 3,
    "start_time": "2025-03-09T10:47:12.812Z"
   },
   {
    "duration": 11,
    "start_time": "2025-03-09T10:47:12.816Z"
   },
   {
    "duration": 18,
    "start_time": "2025-03-09T10:47:12.828Z"
   },
   {
    "duration": 17,
    "start_time": "2025-03-09T10:47:12.848Z"
   },
   {
    "duration": 4,
    "start_time": "2025-03-09T10:47:12.867Z"
   },
   {
    "duration": 36,
    "start_time": "2025-03-09T10:47:12.873Z"
   },
   {
    "duration": 6,
    "start_time": "2025-03-09T10:47:12.911Z"
   },
   {
    "duration": 4,
    "start_time": "2025-03-09T10:47:12.919Z"
   },
   {
    "duration": 13,
    "start_time": "2025-03-09T10:47:12.924Z"
   },
   {
    "duration": 26,
    "start_time": "2025-03-09T10:47:12.938Z"
   },
   {
    "duration": 42,
    "start_time": "2025-03-09T10:47:12.966Z"
   },
   {
    "duration": 16,
    "start_time": "2025-03-09T10:47:13.009Z"
   },
   {
    "duration": 8,
    "start_time": "2025-03-09T10:47:13.026Z"
   },
   {
    "duration": 9,
    "start_time": "2025-03-09T10:47:13.036Z"
   },
   {
    "duration": 10,
    "start_time": "2025-03-09T10:47:13.046Z"
   },
   {
    "duration": 9,
    "start_time": "2025-03-09T10:47:13.059Z"
   },
   {
    "duration": 8,
    "start_time": "2025-03-09T10:47:13.069Z"
   },
   {
    "duration": 33,
    "start_time": "2025-03-09T10:47:13.078Z"
   },
   {
    "duration": 64,
    "start_time": "2025-03-09T10:47:13.113Z"
   },
   {
    "duration": 9,
    "start_time": "2025-03-09T10:47:13.178Z"
   },
   {
    "duration": 7,
    "start_time": "2025-03-09T10:47:13.188Z"
   },
   {
    "duration": 9,
    "start_time": "2025-03-09T10:47:13.196Z"
   },
   {
    "duration": 22,
    "start_time": "2025-03-09T10:48:03.907Z"
   },
   {
    "duration": 22,
    "start_time": "2025-03-09T10:48:27.284Z"
   },
   {
    "duration": 23,
    "start_time": "2025-03-09T10:50:30.742Z"
   },
   {
    "duration": 22,
    "start_time": "2025-03-09T10:50:45.858Z"
   },
   {
    "duration": 25,
    "start_time": "2025-03-09T10:50:51.271Z"
   },
   {
    "duration": 23,
    "start_time": "2025-03-09T10:50:59.750Z"
   },
   {
    "duration": 22,
    "start_time": "2025-03-09T10:51:04.769Z"
   },
   {
    "duration": 23,
    "start_time": "2025-03-09T10:51:12.427Z"
   },
   {
    "duration": 98,
    "start_time": "2025-03-09T10:52:18.521Z"
   },
   {
    "duration": 20,
    "start_time": "2025-03-09T10:52:31.954Z"
   },
   {
    "duration": 22,
    "start_time": "2025-03-09T10:52:37.368Z"
   },
   {
    "duration": 3,
    "start_time": "2025-03-09T10:53:12.529Z"
   },
   {
    "duration": 4,
    "start_time": "2025-03-09T10:53:59.865Z"
   },
   {
    "duration": 19,
    "start_time": "2025-03-09T10:55:13.509Z"
   },
   {
    "duration": 4,
    "start_time": "2025-03-09T10:56:10.292Z"
   },
   {
    "duration": 332,
    "start_time": "2025-03-09T10:56:21.653Z"
   },
   {
    "duration": 4,
    "start_time": "2025-03-09T10:56:39.333Z"
   },
   {
    "duration": 27,
    "start_time": "2025-03-09T10:56:40.416Z"
   },
   {
    "duration": 4,
    "start_time": "2025-03-09T10:57:29.231Z"
   },
   {
    "duration": 20,
    "start_time": "2025-03-09T10:57:30.381Z"
   },
   {
    "duration": 4,
    "start_time": "2025-03-09T10:59:09.092Z"
   },
   {
    "duration": 21,
    "start_time": "2025-03-09T10:59:10.125Z"
   },
   {
    "duration": 26,
    "start_time": "2025-03-09T11:03:46.110Z"
   },
   {
    "duration": 20,
    "start_time": "2025-03-09T11:08:41.955Z"
   },
   {
    "duration": 4,
    "start_time": "2025-03-09T11:11:45.602Z"
   },
   {
    "duration": 21,
    "start_time": "2025-03-09T11:11:46.866Z"
   },
   {
    "duration": 3,
    "start_time": "2025-03-09T11:11:53.280Z"
   },
   {
    "duration": 22,
    "start_time": "2025-03-09T11:11:53.935Z"
   },
   {
    "duration": 25,
    "start_time": "2025-03-09T11:11:58.036Z"
   },
   {
    "duration": 3,
    "start_time": "2025-03-09T11:12:02.989Z"
   },
   {
    "duration": 20,
    "start_time": "2025-03-09T11:12:04.006Z"
   },
   {
    "duration": 4,
    "start_time": "2025-03-09T11:12:10.386Z"
   },
   {
    "duration": 22,
    "start_time": "2025-03-09T11:12:11.518Z"
   },
   {
    "duration": 4,
    "start_time": "2025-03-09T11:14:05.442Z"
   },
   {
    "duration": 21,
    "start_time": "2025-03-09T11:14:06.376Z"
   },
   {
    "duration": 25,
    "start_time": "2025-03-09T11:14:09.772Z"
   },
   {
    "duration": 3,
    "start_time": "2025-03-09T11:14:44.959Z"
   },
   {
    "duration": 21,
    "start_time": "2025-03-09T11:14:45.926Z"
   },
   {
    "duration": 3,
    "start_time": "2025-03-09T11:14:58.737Z"
   },
   {
    "duration": 23,
    "start_time": "2025-03-09T11:14:59.785Z"
   },
   {
    "duration": 24,
    "start_time": "2025-03-09T11:15:03.803Z"
   },
   {
    "duration": 4,
    "start_time": "2025-03-09T11:16:08.829Z"
   },
   {
    "duration": 21,
    "start_time": "2025-03-09T11:16:09.436Z"
   },
   {
    "duration": 24,
    "start_time": "2025-03-09T11:16:13.702Z"
   },
   {
    "duration": 22,
    "start_time": "2025-03-09T11:17:20.659Z"
   },
   {
    "duration": 23,
    "start_time": "2025-03-09T11:39:43.518Z"
   },
   {
    "duration": 26,
    "start_time": "2025-03-09T11:54:22.820Z"
   },
   {
    "duration": 485,
    "start_time": "2025-03-09T12:39:06.284Z"
   },
   {
    "duration": 20,
    "start_time": "2025-03-09T12:39:06.771Z"
   },
   {
    "duration": 15,
    "start_time": "2025-03-09T12:39:06.792Z"
   },
   {
    "duration": 8,
    "start_time": "2025-03-09T12:39:06.809Z"
   },
   {
    "duration": 50,
    "start_time": "2025-03-09T12:39:06.818Z"
   },
   {
    "duration": 3,
    "start_time": "2025-03-09T12:39:06.870Z"
   },
   {
    "duration": 13,
    "start_time": "2025-03-09T12:39:06.874Z"
   },
   {
    "duration": 12,
    "start_time": "2025-03-09T12:39:06.888Z"
   },
   {
    "duration": 21,
    "start_time": "2025-03-09T12:39:06.902Z"
   },
   {
    "duration": 4,
    "start_time": "2025-03-09T12:39:06.925Z"
   },
   {
    "duration": 53,
    "start_time": "2025-03-09T12:39:06.931Z"
   },
   {
    "duration": 10,
    "start_time": "2025-03-09T12:39:06.985Z"
   },
   {
    "duration": 4,
    "start_time": "2025-03-09T12:39:06.996Z"
   },
   {
    "duration": 34,
    "start_time": "2025-03-09T12:39:07.001Z"
   },
   {
    "duration": 37,
    "start_time": "2025-03-09T12:39:07.036Z"
   },
   {
    "duration": 16,
    "start_time": "2025-03-09T12:39:07.074Z"
   },
   {
    "duration": 14,
    "start_time": "2025-03-09T12:39:07.092Z"
   },
   {
    "duration": 20,
    "start_time": "2025-03-09T12:39:07.107Z"
   },
   {
    "duration": 36,
    "start_time": "2025-03-09T12:39:07.129Z"
   },
   {
    "duration": 17,
    "start_time": "2025-03-09T12:39:07.167Z"
   },
   {
    "duration": 22,
    "start_time": "2025-03-09T12:39:07.185Z"
   },
   {
    "duration": 4,
    "start_time": "2025-03-09T12:39:07.208Z"
   },
   {
    "duration": 24,
    "start_time": "2025-03-09T12:39:07.214Z"
   },
   {
    "duration": 24,
    "start_time": "2025-03-09T12:39:07.239Z"
   },
   {
    "duration": 21,
    "start_time": "2025-03-09T12:39:07.265Z"
   },
   {
    "duration": 24,
    "start_time": "2025-03-09T12:39:07.307Z"
   },
   {
    "duration": 514,
    "start_time": "2025-03-09T12:44:59.583Z"
   },
   {
    "duration": 22,
    "start_time": "2025-03-09T12:45:00.099Z"
   },
   {
    "duration": 31,
    "start_time": "2025-03-09T12:45:00.123Z"
   },
   {
    "duration": 10,
    "start_time": "2025-03-09T12:45:00.157Z"
   },
   {
    "duration": 66,
    "start_time": "2025-03-09T12:45:00.169Z"
   },
   {
    "duration": 4,
    "start_time": "2025-03-09T12:45:00.236Z"
   },
   {
    "duration": 14,
    "start_time": "2025-03-09T12:45:00.241Z"
   },
   {
    "duration": 8,
    "start_time": "2025-03-09T12:45:00.256Z"
   },
   {
    "duration": 8,
    "start_time": "2025-03-09T12:45:00.265Z"
   },
   {
    "duration": 4,
    "start_time": "2025-03-09T12:45:00.279Z"
   },
   {
    "duration": 58,
    "start_time": "2025-03-09T12:45:00.286Z"
   },
   {
    "duration": 11,
    "start_time": "2025-03-09T12:45:00.346Z"
   },
   {
    "duration": 5,
    "start_time": "2025-03-09T12:45:00.359Z"
   },
   {
    "duration": 29,
    "start_time": "2025-03-09T12:45:00.366Z"
   },
   {
    "duration": 29,
    "start_time": "2025-03-09T12:45:00.396Z"
   },
   {
    "duration": 17,
    "start_time": "2025-03-09T12:45:00.426Z"
   },
   {
    "duration": 4,
    "start_time": "2025-03-09T12:45:00.444Z"
   },
   {
    "duration": 11,
    "start_time": "2025-03-09T12:45:00.449Z"
   },
   {
    "duration": 7,
    "start_time": "2025-03-09T12:45:00.462Z"
   },
   {
    "duration": 10,
    "start_time": "2025-03-09T12:45:00.470Z"
   },
   {
    "duration": 31,
    "start_time": "2025-03-09T12:45:00.482Z"
   },
   {
    "duration": 5,
    "start_time": "2025-03-09T12:45:00.515Z"
   },
   {
    "duration": 27,
    "start_time": "2025-03-09T12:45:00.522Z"
   },
   {
    "duration": 24,
    "start_time": "2025-03-09T12:45:00.551Z"
   },
   {
    "duration": 45,
    "start_time": "2025-03-09T12:45:00.577Z"
   },
   {
    "duration": 27,
    "start_time": "2025-03-09T12:45:00.624Z"
   }
  ],
  "colab": {
   "name": "dpp_template_part2.ipynb",
   "provenance": []
  },
  "kernelspec": {
   "display_name": "Python 3 (ipykernel)",
   "language": "python",
   "name": "python3"
  },
  "language_info": {
   "codemirror_mode": {
    "name": "ipython",
    "version": 3
   },
   "file_extension": ".py",
   "mimetype": "text/x-python",
   "name": "python",
   "nbconvert_exporter": "python",
   "pygments_lexer": "ipython3",
   "version": "3.12.4"
  },
  "toc": {
   "base_numbering": 1,
   "nav_menu": {},
   "number_sections": true,
   "sideBar": true,
   "skip_h1_title": true,
   "title_cell": "Table of Contents",
   "title_sidebar": "Contents",
   "toc_cell": false,
   "toc_position": {},
   "toc_section_display": true,
   "toc_window_display": false
  }
 },
 "nbformat": 4,
 "nbformat_minor": 5
}
